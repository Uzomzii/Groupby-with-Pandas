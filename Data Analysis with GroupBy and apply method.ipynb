{
 "cells": [
  {
   "cell_type": "markdown",
   "id": "e6fac9c7",
   "metadata": {},
   "source": [
    "Any groupby operation involves one of the following operations on the original object. They are −\n",
    "\n",
    "* Splitting the Object\n",
    "\n",
    "* Applying a function\n",
    "\n",
    "* Combining the results\n",
    "\n",
    "In many situations, we split the data into sets and we apply some functionality on each subset. In the apply functionality, we can perform the following operations −\n",
    "\n",
    "* Aggregation − computing a summary statistic\n",
    "\n",
    "* Transformation − perform some group-specific operation\n",
    "\n",
    "* Filtration − discarding the data with some condition"
   ]
  },
  {
   "cell_type": "code",
   "execution_count": 1,
   "id": "c7496f62",
   "metadata": {},
   "outputs": [],
   "source": [
    "import pandas as pd\n",
    "# Create dataframe\n",
    "data = {'Company':['GOOG','GOOG','MSFT','MSFT','FB','FB'],\n",
    "       'Person':['Sam','Charlie','Amy','Vanessa','Carl','Sarah'],\n",
    "       'Sales':[200,120,340,124,243,350]}\n",
    "df = pd.DataFrame(data)"
   ]
  },
  {
   "cell_type": "code",
   "execution_count": 2,
   "id": "c7eaa665",
   "metadata": {},
   "outputs": [
    {
     "data": {
      "text/html": [
       "<div>\n",
       "<style scoped>\n",
       "    .dataframe tbody tr th:only-of-type {\n",
       "        vertical-align: middle;\n",
       "    }\n",
       "\n",
       "    .dataframe tbody tr th {\n",
       "        vertical-align: top;\n",
       "    }\n",
       "\n",
       "    .dataframe thead th {\n",
       "        text-align: right;\n",
       "    }\n",
       "</style>\n",
       "<table border=\"1\" class=\"dataframe\">\n",
       "  <thead>\n",
       "    <tr style=\"text-align: right;\">\n",
       "      <th></th>\n",
       "      <th>Company</th>\n",
       "      <th>Person</th>\n",
       "      <th>Sales</th>\n",
       "    </tr>\n",
       "  </thead>\n",
       "  <tbody>\n",
       "    <tr>\n",
       "      <th>0</th>\n",
       "      <td>GOOG</td>\n",
       "      <td>Sam</td>\n",
       "      <td>200</td>\n",
       "    </tr>\n",
       "    <tr>\n",
       "      <th>1</th>\n",
       "      <td>GOOG</td>\n",
       "      <td>Charlie</td>\n",
       "      <td>120</td>\n",
       "    </tr>\n",
       "    <tr>\n",
       "      <th>2</th>\n",
       "      <td>MSFT</td>\n",
       "      <td>Amy</td>\n",
       "      <td>340</td>\n",
       "    </tr>\n",
       "    <tr>\n",
       "      <th>3</th>\n",
       "      <td>MSFT</td>\n",
       "      <td>Vanessa</td>\n",
       "      <td>124</td>\n",
       "    </tr>\n",
       "    <tr>\n",
       "      <th>4</th>\n",
       "      <td>FB</td>\n",
       "      <td>Carl</td>\n",
       "      <td>243</td>\n",
       "    </tr>\n",
       "    <tr>\n",
       "      <th>5</th>\n",
       "      <td>FB</td>\n",
       "      <td>Sarah</td>\n",
       "      <td>350</td>\n",
       "    </tr>\n",
       "  </tbody>\n",
       "</table>\n",
       "</div>"
      ],
      "text/plain": [
       "  Company   Person  Sales\n",
       "0    GOOG      Sam    200\n",
       "1    GOOG  Charlie    120\n",
       "2    MSFT      Amy    340\n",
       "3    MSFT  Vanessa    124\n",
       "4      FB     Carl    243\n",
       "5      FB    Sarah    350"
      ]
     },
     "execution_count": 2,
     "metadata": {},
     "output_type": "execute_result"
    }
   ],
   "source": [
    "df"
   ]
  },
  {
   "cell_type": "code",
   "execution_count": 3,
   "id": "f870c7c7",
   "metadata": {},
   "outputs": [
    {
     "data": {
      "text/plain": [
       "<pandas.core.groupby.generic.DataFrameGroupBy object at 0x000002C4F7878F90>"
      ]
     },
     "execution_count": 3,
     "metadata": {},
     "output_type": "execute_result"
    }
   ],
   "source": [
    "df.groupby('Company')"
   ]
  },
  {
   "cell_type": "code",
   "execution_count": 4,
   "id": "10fc2993",
   "metadata": {},
   "outputs": [],
   "source": [
    "by_comp = df.groupby('Company')"
   ]
  },
  {
   "cell_type": "code",
   "execution_count": 5,
   "id": "fc99f394",
   "metadata": {},
   "outputs": [
    {
     "data": {
      "text/plain": [
       "{'FB': [4, 5], 'GOOG': [0, 1], 'MSFT': [2, 3]}"
      ]
     },
     "execution_count": 5,
     "metadata": {},
     "output_type": "execute_result"
    }
   ],
   "source": [
    "by_comp.groups"
   ]
  },
  {
   "cell_type": "code",
   "execution_count": 6,
   "id": "89509a0a",
   "metadata": {},
   "outputs": [
    {
     "data": {
      "text/html": [
       "<div>\n",
       "<style scoped>\n",
       "    .dataframe tbody tr th:only-of-type {\n",
       "        vertical-align: middle;\n",
       "    }\n",
       "\n",
       "    .dataframe tbody tr th {\n",
       "        vertical-align: top;\n",
       "    }\n",
       "\n",
       "    .dataframe thead th {\n",
       "        text-align: right;\n",
       "    }\n",
       "</style>\n",
       "<table border=\"1\" class=\"dataframe\">\n",
       "  <thead>\n",
       "    <tr style=\"text-align: right;\">\n",
       "      <th></th>\n",
       "      <th>Sales</th>\n",
       "    </tr>\n",
       "    <tr>\n",
       "      <th>Company</th>\n",
       "      <th></th>\n",
       "    </tr>\n",
       "  </thead>\n",
       "  <tbody>\n",
       "    <tr>\n",
       "      <th>FB</th>\n",
       "      <td>593</td>\n",
       "    </tr>\n",
       "    <tr>\n",
       "      <th>GOOG</th>\n",
       "      <td>320</td>\n",
       "    </tr>\n",
       "    <tr>\n",
       "      <th>MSFT</th>\n",
       "      <td>464</td>\n",
       "    </tr>\n",
       "  </tbody>\n",
       "</table>\n",
       "</div>"
      ],
      "text/plain": [
       "         Sales\n",
       "Company       \n",
       "FB         593\n",
       "GOOG       320\n",
       "MSFT       464"
      ]
     },
     "execution_count": 6,
     "metadata": {},
     "output_type": "execute_result"
    }
   ],
   "source": [
    "by_comp[['Sales']].sum()"
   ]
  },
  {
   "cell_type": "code",
   "execution_count": 7,
   "id": "2ffd5063",
   "metadata": {},
   "outputs": [
    {
     "data": {
      "text/html": [
       "<div>\n",
       "<style scoped>\n",
       "    .dataframe tbody tr th:only-of-type {\n",
       "        vertical-align: middle;\n",
       "    }\n",
       "\n",
       "    .dataframe tbody tr th {\n",
       "        vertical-align: top;\n",
       "    }\n",
       "\n",
       "    .dataframe thead th {\n",
       "        text-align: right;\n",
       "    }\n",
       "</style>\n",
       "<table border=\"1\" class=\"dataframe\">\n",
       "  <thead>\n",
       "    <tr style=\"text-align: right;\">\n",
       "      <th></th>\n",
       "      <th>Person</th>\n",
       "      <th>Sales</th>\n",
       "    </tr>\n",
       "    <tr>\n",
       "      <th>Company</th>\n",
       "      <th></th>\n",
       "      <th></th>\n",
       "    </tr>\n",
       "  </thead>\n",
       "  <tbody>\n",
       "    <tr>\n",
       "      <th>FB</th>\n",
       "      <td>2</td>\n",
       "      <td>2</td>\n",
       "    </tr>\n",
       "    <tr>\n",
       "      <th>GOOG</th>\n",
       "      <td>2</td>\n",
       "      <td>2</td>\n",
       "    </tr>\n",
       "    <tr>\n",
       "      <th>MSFT</th>\n",
       "      <td>2</td>\n",
       "      <td>2</td>\n",
       "    </tr>\n",
       "  </tbody>\n",
       "</table>\n",
       "</div>"
      ],
      "text/plain": [
       "         Person  Sales\n",
       "Company               \n",
       "FB            2      2\n",
       "GOOG          2      2\n",
       "MSFT          2      2"
      ]
     },
     "execution_count": 7,
     "metadata": {},
     "output_type": "execute_result"
    }
   ],
   "source": [
    "by_comp.count()"
   ]
  },
  {
   "cell_type": "code",
   "execution_count": 8,
   "id": "0d363fe8",
   "metadata": {},
   "outputs": [
    {
     "data": {
      "text/html": [
       "<div>\n",
       "<style scoped>\n",
       "    .dataframe tbody tr th:only-of-type {\n",
       "        vertical-align: middle;\n",
       "    }\n",
       "\n",
       "    .dataframe tbody tr th {\n",
       "        vertical-align: top;\n",
       "    }\n",
       "\n",
       "    .dataframe thead th {\n",
       "        text-align: right;\n",
       "    }\n",
       "</style>\n",
       "<table border=\"1\" class=\"dataframe\">\n",
       "  <thead>\n",
       "    <tr style=\"text-align: right;\">\n",
       "      <th></th>\n",
       "      <th>Sales</th>\n",
       "    </tr>\n",
       "    <tr>\n",
       "      <th>Company</th>\n",
       "      <th></th>\n",
       "    </tr>\n",
       "  </thead>\n",
       "  <tbody>\n",
       "    <tr>\n",
       "      <th>FB</th>\n",
       "      <td>296.5</td>\n",
       "    </tr>\n",
       "    <tr>\n",
       "      <th>GOOG</th>\n",
       "      <td>160.0</td>\n",
       "    </tr>\n",
       "    <tr>\n",
       "      <th>MSFT</th>\n",
       "      <td>232.0</td>\n",
       "    </tr>\n",
       "  </tbody>\n",
       "</table>\n",
       "</div>"
      ],
      "text/plain": [
       "         Sales\n",
       "Company       \n",
       "FB       296.5\n",
       "GOOG     160.0\n",
       "MSFT     232.0"
      ]
     },
     "execution_count": 8,
     "metadata": {},
     "output_type": "execute_result"
    }
   ],
   "source": [
    "by_comp[['Sales']].mean()"
   ]
  },
  {
   "cell_type": "markdown",
   "id": "c5ff8293",
   "metadata": {},
   "source": [
    "#### select a group\n",
    "Using the get_group() method, we can select a single group from our groupby object"
   ]
  },
  {
   "cell_type": "code",
   "execution_count": 9,
   "id": "25f2c806",
   "metadata": {},
   "outputs": [
    {
     "data": {
      "text/html": [
       "<div>\n",
       "<style scoped>\n",
       "    .dataframe tbody tr th:only-of-type {\n",
       "        vertical-align: middle;\n",
       "    }\n",
       "\n",
       "    .dataframe tbody tr th {\n",
       "        vertical-align: top;\n",
       "    }\n",
       "\n",
       "    .dataframe thead th {\n",
       "        text-align: right;\n",
       "    }\n",
       "</style>\n",
       "<table border=\"1\" class=\"dataframe\">\n",
       "  <thead>\n",
       "    <tr style=\"text-align: right;\">\n",
       "      <th></th>\n",
       "      <th>Company</th>\n",
       "      <th>Person</th>\n",
       "      <th>Sales</th>\n",
       "    </tr>\n",
       "  </thead>\n",
       "  <tbody>\n",
       "    <tr>\n",
       "      <th>4</th>\n",
       "      <td>FB</td>\n",
       "      <td>Carl</td>\n",
       "      <td>243</td>\n",
       "    </tr>\n",
       "    <tr>\n",
       "      <th>5</th>\n",
       "      <td>FB</td>\n",
       "      <td>Sarah</td>\n",
       "      <td>350</td>\n",
       "    </tr>\n",
       "  </tbody>\n",
       "</table>\n",
       "</div>"
      ],
      "text/plain": [
       "  Company Person  Sales\n",
       "4      FB   Carl    243\n",
       "5      FB  Sarah    350"
      ]
     },
     "execution_count": 9,
     "metadata": {},
     "output_type": "execute_result"
    }
   ],
   "source": [
    "by_comp.get_group('FB')"
   ]
  },
  {
   "cell_type": "code",
   "execution_count": 10,
   "id": "5f1a0236",
   "metadata": {},
   "outputs": [
    {
     "data": {
      "text/html": [
       "<div>\n",
       "<style scoped>\n",
       "    .dataframe tbody tr th:only-of-type {\n",
       "        vertical-align: middle;\n",
       "    }\n",
       "\n",
       "    .dataframe tbody tr th {\n",
       "        vertical-align: top;\n",
       "    }\n",
       "\n",
       "    .dataframe thead tr th {\n",
       "        text-align: left;\n",
       "    }\n",
       "\n",
       "    .dataframe thead tr:last-of-type th {\n",
       "        text-align: right;\n",
       "    }\n",
       "</style>\n",
       "<table border=\"1\" class=\"dataframe\">\n",
       "  <thead>\n",
       "    <tr>\n",
       "      <th></th>\n",
       "      <th colspan=\"8\" halign=\"left\">Sales</th>\n",
       "    </tr>\n",
       "    <tr>\n",
       "      <th></th>\n",
       "      <th>count</th>\n",
       "      <th>mean</th>\n",
       "      <th>std</th>\n",
       "      <th>min</th>\n",
       "      <th>25%</th>\n",
       "      <th>50%</th>\n",
       "      <th>75%</th>\n",
       "      <th>max</th>\n",
       "    </tr>\n",
       "    <tr>\n",
       "      <th>Company</th>\n",
       "      <th></th>\n",
       "      <th></th>\n",
       "      <th></th>\n",
       "      <th></th>\n",
       "      <th></th>\n",
       "      <th></th>\n",
       "      <th></th>\n",
       "      <th></th>\n",
       "    </tr>\n",
       "  </thead>\n",
       "  <tbody>\n",
       "    <tr>\n",
       "      <th>FB</th>\n",
       "      <td>2.0</td>\n",
       "      <td>296.5</td>\n",
       "      <td>75.660426</td>\n",
       "      <td>243.0</td>\n",
       "      <td>269.75</td>\n",
       "      <td>296.5</td>\n",
       "      <td>323.25</td>\n",
       "      <td>350.0</td>\n",
       "    </tr>\n",
       "    <tr>\n",
       "      <th>GOOG</th>\n",
       "      <td>2.0</td>\n",
       "      <td>160.0</td>\n",
       "      <td>56.568542</td>\n",
       "      <td>120.0</td>\n",
       "      <td>140.00</td>\n",
       "      <td>160.0</td>\n",
       "      <td>180.00</td>\n",
       "      <td>200.0</td>\n",
       "    </tr>\n",
       "    <tr>\n",
       "      <th>MSFT</th>\n",
       "      <td>2.0</td>\n",
       "      <td>232.0</td>\n",
       "      <td>152.735065</td>\n",
       "      <td>124.0</td>\n",
       "      <td>178.00</td>\n",
       "      <td>232.0</td>\n",
       "      <td>286.00</td>\n",
       "      <td>340.0</td>\n",
       "    </tr>\n",
       "  </tbody>\n",
       "</table>\n",
       "</div>"
      ],
      "text/plain": [
       "        Sales                                                        \n",
       "        count   mean         std    min     25%    50%     75%    max\n",
       "Company                                                              \n",
       "FB        2.0  296.5   75.660426  243.0  269.75  296.5  323.25  350.0\n",
       "GOOG      2.0  160.0   56.568542  120.0  140.00  160.0  180.00  200.0\n",
       "MSFT      2.0  232.0  152.735065  124.0  178.00  232.0  286.00  340.0"
      ]
     },
     "execution_count": 10,
     "metadata": {},
     "output_type": "execute_result"
    }
   ],
   "source": [
    "by_comp.describe()"
   ]
  },
  {
   "cell_type": "markdown",
   "id": "0e53ed98",
   "metadata": {},
   "source": [
    "### Applying functions"
   ]
  },
  {
   "cell_type": "code",
   "execution_count": 11,
   "id": "c76f3156",
   "metadata": {},
   "outputs": [
    {
     "data": {
      "text/html": [
       "<div>\n",
       "<style scoped>\n",
       "    .dataframe tbody tr th:only-of-type {\n",
       "        vertical-align: middle;\n",
       "    }\n",
       "\n",
       "    .dataframe tbody tr th {\n",
       "        vertical-align: top;\n",
       "    }\n",
       "\n",
       "    .dataframe thead th {\n",
       "        text-align: right;\n",
       "    }\n",
       "</style>\n",
       "<table border=\"1\" class=\"dataframe\">\n",
       "  <thead>\n",
       "    <tr style=\"text-align: right;\">\n",
       "      <th></th>\n",
       "      <th>Company</th>\n",
       "      <th>Person</th>\n",
       "      <th>Sales</th>\n",
       "    </tr>\n",
       "  </thead>\n",
       "  <tbody>\n",
       "    <tr>\n",
       "      <th>0</th>\n",
       "      <td>GOOG</td>\n",
       "      <td>Sam</td>\n",
       "      <td>200</td>\n",
       "    </tr>\n",
       "    <tr>\n",
       "      <th>1</th>\n",
       "      <td>GOOG</td>\n",
       "      <td>Charlie</td>\n",
       "      <td>120</td>\n",
       "    </tr>\n",
       "    <tr>\n",
       "      <th>2</th>\n",
       "      <td>MSFT</td>\n",
       "      <td>Amy</td>\n",
       "      <td>340</td>\n",
       "    </tr>\n",
       "    <tr>\n",
       "      <th>3</th>\n",
       "      <td>MSFT</td>\n",
       "      <td>Vanessa</td>\n",
       "      <td>124</td>\n",
       "    </tr>\n",
       "    <tr>\n",
       "      <th>4</th>\n",
       "      <td>FB</td>\n",
       "      <td>Carl</td>\n",
       "      <td>243</td>\n",
       "    </tr>\n",
       "    <tr>\n",
       "      <th>5</th>\n",
       "      <td>FB</td>\n",
       "      <td>Sarah</td>\n",
       "      <td>350</td>\n",
       "    </tr>\n",
       "  </tbody>\n",
       "</table>\n",
       "</div>"
      ],
      "text/plain": [
       "  Company   Person  Sales\n",
       "0    GOOG      Sam    200\n",
       "1    GOOG  Charlie    120\n",
       "2    MSFT      Amy    340\n",
       "3    MSFT  Vanessa    124\n",
       "4      FB     Carl    243\n",
       "5      FB    Sarah    350"
      ]
     },
     "execution_count": 11,
     "metadata": {},
     "output_type": "execute_result"
    }
   ],
   "source": [
    "df"
   ]
  },
  {
   "cell_type": "code",
   "execution_count": 12,
   "id": "5fee6381",
   "metadata": {},
   "outputs": [],
   "source": [
    "def doubler(x):\n",
    "    return x*2"
   ]
  },
  {
   "cell_type": "code",
   "execution_count": 13,
   "id": "2688ff18",
   "metadata": {},
   "outputs": [],
   "source": [
    "df2 = df.copy()"
   ]
  },
  {
   "cell_type": "code",
   "execution_count": 14,
   "id": "464cac08",
   "metadata": {},
   "outputs": [],
   "source": [
    "df2['Sales'] = df2['Sales'].apply(doubler)"
   ]
  },
  {
   "cell_type": "code",
   "execution_count": 15,
   "id": "348a5e69",
   "metadata": {},
   "outputs": [
    {
     "data": {
      "text/html": [
       "<div>\n",
       "<style scoped>\n",
       "    .dataframe tbody tr th:only-of-type {\n",
       "        vertical-align: middle;\n",
       "    }\n",
       "\n",
       "    .dataframe tbody tr th {\n",
       "        vertical-align: top;\n",
       "    }\n",
       "\n",
       "    .dataframe thead th {\n",
       "        text-align: right;\n",
       "    }\n",
       "</style>\n",
       "<table border=\"1\" class=\"dataframe\">\n",
       "  <thead>\n",
       "    <tr style=\"text-align: right;\">\n",
       "      <th></th>\n",
       "      <th>Company</th>\n",
       "      <th>Person</th>\n",
       "      <th>Sales</th>\n",
       "    </tr>\n",
       "  </thead>\n",
       "  <tbody>\n",
       "    <tr>\n",
       "      <th>0</th>\n",
       "      <td>GOOG</td>\n",
       "      <td>Sam</td>\n",
       "      <td>400</td>\n",
       "    </tr>\n",
       "    <tr>\n",
       "      <th>1</th>\n",
       "      <td>GOOG</td>\n",
       "      <td>Charlie</td>\n",
       "      <td>240</td>\n",
       "    </tr>\n",
       "    <tr>\n",
       "      <th>2</th>\n",
       "      <td>MSFT</td>\n",
       "      <td>Amy</td>\n",
       "      <td>680</td>\n",
       "    </tr>\n",
       "    <tr>\n",
       "      <th>3</th>\n",
       "      <td>MSFT</td>\n",
       "      <td>Vanessa</td>\n",
       "      <td>248</td>\n",
       "    </tr>\n",
       "    <tr>\n",
       "      <th>4</th>\n",
       "      <td>FB</td>\n",
       "      <td>Carl</td>\n",
       "      <td>486</td>\n",
       "    </tr>\n",
       "    <tr>\n",
       "      <th>5</th>\n",
       "      <td>FB</td>\n",
       "      <td>Sarah</td>\n",
       "      <td>700</td>\n",
       "    </tr>\n",
       "  </tbody>\n",
       "</table>\n",
       "</div>"
      ],
      "text/plain": [
       "  Company   Person  Sales\n",
       "0    GOOG      Sam    400\n",
       "1    GOOG  Charlie    240\n",
       "2    MSFT      Amy    680\n",
       "3    MSFT  Vanessa    248\n",
       "4      FB     Carl    486\n",
       "5      FB    Sarah    700"
      ]
     },
     "execution_count": 15,
     "metadata": {},
     "output_type": "execute_result"
    }
   ],
   "source": [
    "df2"
   ]
  },
  {
   "cell_type": "code",
   "execution_count": 16,
   "id": "5519d02b",
   "metadata": {},
   "outputs": [
    {
     "data": {
      "text/plain": [
       "0    400\n",
       "1    240\n",
       "2    680\n",
       "3    248\n",
       "4    486\n",
       "5    700\n",
       "Name: Sales, dtype: int64"
      ]
     },
     "execution_count": 16,
     "metadata": {},
     "output_type": "execute_result"
    }
   ],
   "source": [
    "df['Sales'].apply(lambda x: x*2)"
   ]
  },
  {
   "cell_type": "markdown",
   "id": "c51964d3",
   "metadata": {},
   "source": [
    "# Analyse University Dataset"
   ]
  },
  {
   "cell_type": "code",
   "execution_count": 17,
   "id": "b8f09ef6",
   "metadata": {},
   "outputs": [
    {
     "name": "stderr",
     "output_type": "stream",
     "text": [
      "C:\\Users\\Lawson\\AppData\\Local\\Temp\\ipykernel_17180\\3112603597.py:1: DtypeWarning: Columns (10,11,12) have mixed types. Specify dtype option on import or set low_memory=False.\n",
      "  data = pd.read_csv('Datasets/college_data.csv')\n"
     ]
    }
   ],
   "source": [
    "data = pd.read_csv('Datasets/college_data.csv')"
   ]
  },
  {
   "cell_type": "code",
   "execution_count": 18,
   "id": "8e9c8308",
   "metadata": {},
   "outputs": [],
   "source": [
    "df = data.copy()"
   ]
  },
  {
   "cell_type": "code",
   "execution_count": 19,
   "id": "a06b3e62",
   "metadata": {},
   "outputs": [
    {
     "data": {
      "text/html": [
       "<div>\n",
       "<style scoped>\n",
       "    .dataframe tbody tr th:only-of-type {\n",
       "        vertical-align: middle;\n",
       "    }\n",
       "\n",
       "    .dataframe tbody tr th {\n",
       "        vertical-align: top;\n",
       "    }\n",
       "\n",
       "    .dataframe thead th {\n",
       "        text-align: right;\n",
       "    }\n",
       "</style>\n",
       "<table border=\"1\" class=\"dataframe\">\n",
       "  <thead>\n",
       "    <tr style=\"text-align: right;\">\n",
       "      <th></th>\n",
       "      <th>UNITID</th>\n",
       "      <th>INSTNM</th>\n",
       "      <th>CITY</th>\n",
       "      <th>STABBR</th>\n",
       "      <th>ZIP</th>\n",
       "      <th>REGION</th>\n",
       "      <th>PREDDEG</th>\n",
       "      <th>LOCALE</th>\n",
       "      <th>LATITUDE</th>\n",
       "      <th>LONGITUDE</th>\n",
       "      <th>...</th>\n",
       "      <th>UGDS_WHITE</th>\n",
       "      <th>UGDS_BLACK</th>\n",
       "      <th>UGDS_HISP</th>\n",
       "      <th>UGDS_ASIAN</th>\n",
       "      <th>UGDS_AIAN</th>\n",
       "      <th>UGDS_NHPI</th>\n",
       "      <th>UGDS_2MOR</th>\n",
       "      <th>UGDS_NRA</th>\n",
       "      <th>UGDS_UNKN</th>\n",
       "      <th>year</th>\n",
       "    </tr>\n",
       "  </thead>\n",
       "  <tbody>\n",
       "    <tr>\n",
       "      <th>0</th>\n",
       "      <td>100654</td>\n",
       "      <td>Alabama A &amp; M University</td>\n",
       "      <td>Normal</td>\n",
       "      <td>AL</td>\n",
       "      <td>35762</td>\n",
       "      <td>Southeast (AL, AR, FL, GA, KY, LA, MS, NC, SC,...</td>\n",
       "      <td>Predominantly bachelor's-degree granting</td>\n",
       "      <td>NaN</td>\n",
       "      <td>NaN</td>\n",
       "      <td>NaN</td>\n",
       "      <td>...</td>\n",
       "      <td>NaN</td>\n",
       "      <td>NaN</td>\n",
       "      <td>NaN</td>\n",
       "      <td>NaN</td>\n",
       "      <td>NaN</td>\n",
       "      <td>NaN</td>\n",
       "      <td>NaN</td>\n",
       "      <td>0.0402</td>\n",
       "      <td>0.0017</td>\n",
       "      <td>2001</td>\n",
       "    </tr>\n",
       "    <tr>\n",
       "      <th>1</th>\n",
       "      <td>100663</td>\n",
       "      <td>University of Alabama at Birmingham</td>\n",
       "      <td>Birmingham</td>\n",
       "      <td>AL</td>\n",
       "      <td>35294-0110</td>\n",
       "      <td>Southeast (AL, AR, FL, GA, KY, LA, MS, NC, SC,...</td>\n",
       "      <td>Predominantly bachelor's-degree granting</td>\n",
       "      <td>NaN</td>\n",
       "      <td>NaN</td>\n",
       "      <td>NaN</td>\n",
       "      <td>...</td>\n",
       "      <td>NaN</td>\n",
       "      <td>NaN</td>\n",
       "      <td>NaN</td>\n",
       "      <td>NaN</td>\n",
       "      <td>NaN</td>\n",
       "      <td>NaN</td>\n",
       "      <td>NaN</td>\n",
       "      <td>0.0330</td>\n",
       "      <td>0.0255</td>\n",
       "      <td>2001</td>\n",
       "    </tr>\n",
       "    <tr>\n",
       "      <th>2</th>\n",
       "      <td>100706</td>\n",
       "      <td>University of Alabama in Huntsville</td>\n",
       "      <td>Huntsville</td>\n",
       "      <td>AL</td>\n",
       "      <td>35899</td>\n",
       "      <td>Southeast (AL, AR, FL, GA, KY, LA, MS, NC, SC,...</td>\n",
       "      <td>Predominantly bachelor's-degree granting</td>\n",
       "      <td>NaN</td>\n",
       "      <td>NaN</td>\n",
       "      <td>NaN</td>\n",
       "      <td>...</td>\n",
       "      <td>NaN</td>\n",
       "      <td>NaN</td>\n",
       "      <td>NaN</td>\n",
       "      <td>NaN</td>\n",
       "      <td>NaN</td>\n",
       "      <td>NaN</td>\n",
       "      <td>NaN</td>\n",
       "      <td>0.0396</td>\n",
       "      <td>0.0000</td>\n",
       "      <td>2001</td>\n",
       "    </tr>\n",
       "    <tr>\n",
       "      <th>3</th>\n",
       "      <td>100751</td>\n",
       "      <td>The University of Alabama</td>\n",
       "      <td>Tuscaloosa</td>\n",
       "      <td>AL</td>\n",
       "      <td>35487-0100</td>\n",
       "      <td>Southeast (AL, AR, FL, GA, KY, LA, MS, NC, SC,...</td>\n",
       "      <td>Predominantly bachelor's-degree granting</td>\n",
       "      <td>NaN</td>\n",
       "      <td>NaN</td>\n",
       "      <td>NaN</td>\n",
       "      <td>...</td>\n",
       "      <td>NaN</td>\n",
       "      <td>NaN</td>\n",
       "      <td>NaN</td>\n",
       "      <td>NaN</td>\n",
       "      <td>NaN</td>\n",
       "      <td>NaN</td>\n",
       "      <td>NaN</td>\n",
       "      <td>0.0159</td>\n",
       "      <td>0.0000</td>\n",
       "      <td>2001</td>\n",
       "    </tr>\n",
       "    <tr>\n",
       "      <th>4</th>\n",
       "      <td>100858</td>\n",
       "      <td>Auburn University</td>\n",
       "      <td>Auburn</td>\n",
       "      <td>AL</td>\n",
       "      <td>36849</td>\n",
       "      <td>Southeast (AL, AR, FL, GA, KY, LA, MS, NC, SC,...</td>\n",
       "      <td>Predominantly bachelor's-degree granting</td>\n",
       "      <td>NaN</td>\n",
       "      <td>NaN</td>\n",
       "      <td>NaN</td>\n",
       "      <td>...</td>\n",
       "      <td>NaN</td>\n",
       "      <td>NaN</td>\n",
       "      <td>NaN</td>\n",
       "      <td>NaN</td>\n",
       "      <td>NaN</td>\n",
       "      <td>NaN</td>\n",
       "      <td>NaN</td>\n",
       "      <td>0.0084</td>\n",
       "      <td>0.0016</td>\n",
       "      <td>2001</td>\n",
       "    </tr>\n",
       "  </tbody>\n",
       "</table>\n",
       "<p>5 rows × 33 columns</p>\n",
       "</div>"
      ],
      "text/plain": [
       "   UNITID                               INSTNM        CITY STABBR         ZIP  \\\n",
       "0  100654             Alabama A & M University      Normal     AL       35762   \n",
       "1  100663  University of Alabama at Birmingham  Birmingham     AL  35294-0110   \n",
       "2  100706  University of Alabama in Huntsville  Huntsville     AL       35899   \n",
       "3  100751            The University of Alabama  Tuscaloosa     AL  35487-0100   \n",
       "4  100858                    Auburn University      Auburn     AL       36849   \n",
       "\n",
       "                                              REGION  \\\n",
       "0  Southeast (AL, AR, FL, GA, KY, LA, MS, NC, SC,...   \n",
       "1  Southeast (AL, AR, FL, GA, KY, LA, MS, NC, SC,...   \n",
       "2  Southeast (AL, AR, FL, GA, KY, LA, MS, NC, SC,...   \n",
       "3  Southeast (AL, AR, FL, GA, KY, LA, MS, NC, SC,...   \n",
       "4  Southeast (AL, AR, FL, GA, KY, LA, MS, NC, SC,...   \n",
       "\n",
       "                                    PREDDEG  LOCALE  LATITUDE  LONGITUDE  ...  \\\n",
       "0  Predominantly bachelor's-degree granting     NaN       NaN        NaN  ...   \n",
       "1  Predominantly bachelor's-degree granting     NaN       NaN        NaN  ...   \n",
       "2  Predominantly bachelor's-degree granting     NaN       NaN        NaN  ...   \n",
       "3  Predominantly bachelor's-degree granting     NaN       NaN        NaN  ...   \n",
       "4  Predominantly bachelor's-degree granting     NaN       NaN        NaN  ...   \n",
       "\n",
       "  UGDS_WHITE UGDS_BLACK UGDS_HISP  UGDS_ASIAN  UGDS_AIAN  UGDS_NHPI  \\\n",
       "0        NaN        NaN       NaN         NaN        NaN        NaN   \n",
       "1        NaN        NaN       NaN         NaN        NaN        NaN   \n",
       "2        NaN        NaN       NaN         NaN        NaN        NaN   \n",
       "3        NaN        NaN       NaN         NaN        NaN        NaN   \n",
       "4        NaN        NaN       NaN         NaN        NaN        NaN   \n",
       "\n",
       "   UGDS_2MOR UGDS_NRA  UGDS_UNKN  year  \n",
       "0        NaN   0.0402     0.0017  2001  \n",
       "1        NaN   0.0330     0.0255  2001  \n",
       "2        NaN   0.0396     0.0000  2001  \n",
       "3        NaN   0.0159     0.0000  2001  \n",
       "4        NaN   0.0084     0.0016  2001  \n",
       "\n",
       "[5 rows x 33 columns]"
      ]
     },
     "execution_count": 19,
     "metadata": {},
     "output_type": "execute_result"
    }
   ],
   "source": [
    "df.head()"
   ]
  },
  {
   "cell_type": "code",
   "execution_count": 20,
   "id": "88864ab2",
   "metadata": {},
   "outputs": [
    {
     "name": "stdout",
     "output_type": "stream",
     "text": [
      "<class 'pandas.core.frame.DataFrame'>\n",
      "RangeIndex: 58123 entries, 0 to 58122\n",
      "Data columns (total 33 columns):\n",
      " #   Column                  Non-Null Count  Dtype  \n",
      "---  ------                  --------------  -----  \n",
      " 0   UNITID                  58123 non-null  int64  \n",
      " 1   INSTNM                  58123 non-null  object \n",
      " 2   CITY                    58123 non-null  object \n",
      " 3   STABBR                  58123 non-null  object \n",
      " 4   ZIP                     58123 non-null  object \n",
      " 5   REGION                  58122 non-null  object \n",
      " 6   PREDDEG                 58123 non-null  object \n",
      " 7   LOCALE                  4110 non-null   float64\n",
      " 8   LATITUDE                4110 non-null   float64\n",
      " 9   LONGITUDE               4110 non-null   float64\n",
      " 10  CCBASIC                 4110 non-null   object \n",
      " 11  CCUGPROF                4110 non-null   object \n",
      " 12  CCSIZSET                4110 non-null   object \n",
      " 13  ADM_RATE_ALL            58123 non-null  float64\n",
      " 14  PPTUG_EF                55491 non-null  float64\n",
      " 15  SAT_AVG_ALL             32424 non-null  float64\n",
      " 16  COSTT4_A                27970 non-null  float64\n",
      " 17  CONTROL                 58119 non-null  object \n",
      " 18  TUITIONFEE_IN           48634 non-null  float64\n",
      " 19  TUITIONFEE_OUT          47855 non-null  float64\n",
      " 20  MEDIAN_HH_INC           10650 non-null  float64\n",
      " 21  MN_EARN_WNE_INDEP0_P10  12925 non-null  float64\n",
      " 22  MN_EARN_WNE_INDEP1_P10  13088 non-null  float64\n",
      " 23  UGDS_WHITE              34930 non-null  float64\n",
      " 24  UGDS_BLACK              34930 non-null  float64\n",
      " 25  UGDS_HISP               34930 non-null  float64\n",
      " 26  UGDS_ASIAN              34930 non-null  float64\n",
      " 27  UGDS_AIAN               34930 non-null  float64\n",
      " 28  UGDS_NHPI               34930 non-null  float64\n",
      " 29  UGDS_2MOR               34930 non-null  float64\n",
      " 30  UGDS_NRA                55613 non-null  float64\n",
      " 31  UGDS_UNKN               55613 non-null  float64\n",
      " 32  year                    58123 non-null  int64  \n",
      "dtypes: float64(21), int64(2), object(10)\n",
      "memory usage: 14.6+ MB\n"
     ]
    }
   ],
   "source": [
    "df.info()"
   ]
  },
  {
   "cell_type": "code",
   "execution_count": 21,
   "id": "6f745487",
   "metadata": {},
   "outputs": [
    {
     "data": {
      "text/plain": [
       "UNITID                        0\n",
       "INSTNM                        0\n",
       "CITY                          0\n",
       "STABBR                        0\n",
       "ZIP                           0\n",
       "REGION                        1\n",
       "PREDDEG                       0\n",
       "LOCALE                    54013\n",
       "LATITUDE                  54013\n",
       "LONGITUDE                 54013\n",
       "CCBASIC                   54013\n",
       "CCUGPROF                  54013\n",
       "CCSIZSET                  54013\n",
       "ADM_RATE_ALL                  0\n",
       "PPTUG_EF                   2632\n",
       "SAT_AVG_ALL               25699\n",
       "COSTT4_A                  30153\n",
       "CONTROL                       4\n",
       "TUITIONFEE_IN              9489\n",
       "TUITIONFEE_OUT            10268\n",
       "MEDIAN_HH_INC             47473\n",
       "MN_EARN_WNE_INDEP0_P10    45198\n",
       "MN_EARN_WNE_INDEP1_P10    45035\n",
       "UGDS_WHITE                23193\n",
       "UGDS_BLACK                23193\n",
       "UGDS_HISP                 23193\n",
       "UGDS_ASIAN                23193\n",
       "UGDS_AIAN                 23193\n",
       "UGDS_NHPI                 23193\n",
       "UGDS_2MOR                 23193\n",
       "UGDS_NRA                   2510\n",
       "UGDS_UNKN                  2510\n",
       "year                          0\n",
       "dtype: int64"
      ]
     },
     "execution_count": 21,
     "metadata": {},
     "output_type": "execute_result"
    }
   ],
   "source": [
    "df.isnull().sum()"
   ]
  },
  {
   "cell_type": "code",
   "execution_count": 22,
   "id": "b4dee3d6",
   "metadata": {},
   "outputs": [
    {
     "data": {
      "text/plain": [
       "Index(['UNITID', 'INSTNM', 'CITY', 'STABBR', 'ZIP', 'REGION', 'PREDDEG',\n",
       "       'LOCALE', 'LATITUDE', 'LONGITUDE', 'CCBASIC', 'CCUGPROF', 'CCSIZSET',\n",
       "       'ADM_RATE_ALL', 'PPTUG_EF', 'SAT_AVG_ALL', 'COSTT4_A', 'CONTROL',\n",
       "       'TUITIONFEE_IN', 'TUITIONFEE_OUT', 'MEDIAN_HH_INC',\n",
       "       'MN_EARN_WNE_INDEP0_P10', 'MN_EARN_WNE_INDEP1_P10', 'UGDS_WHITE',\n",
       "       'UGDS_BLACK', 'UGDS_HISP', 'UGDS_ASIAN', 'UGDS_AIAN', 'UGDS_NHPI',\n",
       "       'UGDS_2MOR', 'UGDS_NRA', 'UGDS_UNKN', 'year'],\n",
       "      dtype='object')"
      ]
     },
     "execution_count": 22,
     "metadata": {},
     "output_type": "execute_result"
    }
   ],
   "source": [
    "df.columns"
   ]
  },
  {
   "cell_type": "code",
   "execution_count": 23,
   "id": "c51769fa",
   "metadata": {},
   "outputs": [],
   "source": [
    "drop_columns = ['LOCALE', 'LATITUDE', 'LONGITUDE', 'CCBASIC', 'CCUGPROF', 'CCSIZSET',\n",
    "               'MEDIAN_HH_INC', 'MN_EARN_WNE_INDEP0_P10', 'MN_EARN_WNE_INDEP1_P10']"
   ]
  },
  {
   "cell_type": "code",
   "execution_count": 24,
   "id": "7d769654",
   "metadata": {},
   "outputs": [],
   "source": [
    "df2 = df.drop(drop_columns, axis=1)"
   ]
  },
  {
   "cell_type": "code",
   "execution_count": 25,
   "id": "b41e647b",
   "metadata": {},
   "outputs": [
    {
     "data": {
      "text/html": [
       "<div>\n",
       "<style scoped>\n",
       "    .dataframe tbody tr th:only-of-type {\n",
       "        vertical-align: middle;\n",
       "    }\n",
       "\n",
       "    .dataframe tbody tr th {\n",
       "        vertical-align: top;\n",
       "    }\n",
       "\n",
       "    .dataframe thead th {\n",
       "        text-align: right;\n",
       "    }\n",
       "</style>\n",
       "<table border=\"1\" class=\"dataframe\">\n",
       "  <thead>\n",
       "    <tr style=\"text-align: right;\">\n",
       "      <th></th>\n",
       "      <th>UNITID</th>\n",
       "      <th>INSTNM</th>\n",
       "      <th>CITY</th>\n",
       "      <th>STABBR</th>\n",
       "      <th>ZIP</th>\n",
       "      <th>REGION</th>\n",
       "      <th>PREDDEG</th>\n",
       "      <th>ADM_RATE_ALL</th>\n",
       "      <th>PPTUG_EF</th>\n",
       "      <th>SAT_AVG_ALL</th>\n",
       "      <th>...</th>\n",
       "      <th>UGDS_WHITE</th>\n",
       "      <th>UGDS_BLACK</th>\n",
       "      <th>UGDS_HISP</th>\n",
       "      <th>UGDS_ASIAN</th>\n",
       "      <th>UGDS_AIAN</th>\n",
       "      <th>UGDS_NHPI</th>\n",
       "      <th>UGDS_2MOR</th>\n",
       "      <th>UGDS_NRA</th>\n",
       "      <th>UGDS_UNKN</th>\n",
       "      <th>year</th>\n",
       "    </tr>\n",
       "  </thead>\n",
       "  <tbody>\n",
       "    <tr>\n",
       "      <th>0</th>\n",
       "      <td>100654</td>\n",
       "      <td>Alabama A &amp; M University</td>\n",
       "      <td>Normal</td>\n",
       "      <td>AL</td>\n",
       "      <td>35762</td>\n",
       "      <td>Southeast (AL, AR, FL, GA, KY, LA, MS, NC, SC,...</td>\n",
       "      <td>Predominantly bachelor's-degree granting</td>\n",
       "      <td>0.7505</td>\n",
       "      <td>0.0764</td>\n",
       "      <td>970.0</td>\n",
       "      <td>...</td>\n",
       "      <td>NaN</td>\n",
       "      <td>NaN</td>\n",
       "      <td>NaN</td>\n",
       "      <td>NaN</td>\n",
       "      <td>NaN</td>\n",
       "      <td>NaN</td>\n",
       "      <td>NaN</td>\n",
       "      <td>0.0402</td>\n",
       "      <td>0.0017</td>\n",
       "      <td>2001</td>\n",
       "    </tr>\n",
       "    <tr>\n",
       "      <th>1</th>\n",
       "      <td>100663</td>\n",
       "      <td>University of Alabama at Birmingham</td>\n",
       "      <td>Birmingham</td>\n",
       "      <td>AL</td>\n",
       "      <td>35294-0110</td>\n",
       "      <td>Southeast (AL, AR, FL, GA, KY, LA, MS, NC, SC,...</td>\n",
       "      <td>Predominantly bachelor's-degree granting</td>\n",
       "      <td>0.9098</td>\n",
       "      <td>0.2801</td>\n",
       "      <td>1030.0</td>\n",
       "      <td>...</td>\n",
       "      <td>NaN</td>\n",
       "      <td>NaN</td>\n",
       "      <td>NaN</td>\n",
       "      <td>NaN</td>\n",
       "      <td>NaN</td>\n",
       "      <td>NaN</td>\n",
       "      <td>NaN</td>\n",
       "      <td>0.0330</td>\n",
       "      <td>0.0255</td>\n",
       "      <td>2001</td>\n",
       "    </tr>\n",
       "    <tr>\n",
       "      <th>2</th>\n",
       "      <td>100706</td>\n",
       "      <td>University of Alabama in Huntsville</td>\n",
       "      <td>Huntsville</td>\n",
       "      <td>AL</td>\n",
       "      <td>35899</td>\n",
       "      <td>Southeast (AL, AR, FL, GA, KY, LA, MS, NC, SC,...</td>\n",
       "      <td>Predominantly bachelor's-degree granting</td>\n",
       "      <td>0.8381</td>\n",
       "      <td>0.2689</td>\n",
       "      <td>1109.0</td>\n",
       "      <td>...</td>\n",
       "      <td>NaN</td>\n",
       "      <td>NaN</td>\n",
       "      <td>NaN</td>\n",
       "      <td>NaN</td>\n",
       "      <td>NaN</td>\n",
       "      <td>NaN</td>\n",
       "      <td>NaN</td>\n",
       "      <td>0.0396</td>\n",
       "      <td>0.0000</td>\n",
       "      <td>2001</td>\n",
       "    </tr>\n",
       "    <tr>\n",
       "      <th>3</th>\n",
       "      <td>100751</td>\n",
       "      <td>The University of Alabama</td>\n",
       "      <td>Tuscaloosa</td>\n",
       "      <td>AL</td>\n",
       "      <td>35487-0100</td>\n",
       "      <td>Southeast (AL, AR, FL, GA, KY, LA, MS, NC, SC,...</td>\n",
       "      <td>Predominantly bachelor's-degree granting</td>\n",
       "      <td>0.7948</td>\n",
       "      <td>0.0982</td>\n",
       "      <td>1091.0</td>\n",
       "      <td>...</td>\n",
       "      <td>NaN</td>\n",
       "      <td>NaN</td>\n",
       "      <td>NaN</td>\n",
       "      <td>NaN</td>\n",
       "      <td>NaN</td>\n",
       "      <td>NaN</td>\n",
       "      <td>NaN</td>\n",
       "      <td>0.0159</td>\n",
       "      <td>0.0000</td>\n",
       "      <td>2001</td>\n",
       "    </tr>\n",
       "    <tr>\n",
       "      <th>4</th>\n",
       "      <td>100858</td>\n",
       "      <td>Auburn University</td>\n",
       "      <td>Auburn</td>\n",
       "      <td>AL</td>\n",
       "      <td>36849</td>\n",
       "      <td>Southeast (AL, AR, FL, GA, KY, LA, MS, NC, SC,...</td>\n",
       "      <td>Predominantly bachelor's-degree granting</td>\n",
       "      <td>0.7594</td>\n",
       "      <td>0.0906</td>\n",
       "      <td>1094.0</td>\n",
       "      <td>...</td>\n",
       "      <td>NaN</td>\n",
       "      <td>NaN</td>\n",
       "      <td>NaN</td>\n",
       "      <td>NaN</td>\n",
       "      <td>NaN</td>\n",
       "      <td>NaN</td>\n",
       "      <td>NaN</td>\n",
       "      <td>0.0084</td>\n",
       "      <td>0.0016</td>\n",
       "      <td>2001</td>\n",
       "    </tr>\n",
       "  </tbody>\n",
       "</table>\n",
       "<p>5 rows × 24 columns</p>\n",
       "</div>"
      ],
      "text/plain": [
       "   UNITID                               INSTNM        CITY STABBR         ZIP  \\\n",
       "0  100654             Alabama A & M University      Normal     AL       35762   \n",
       "1  100663  University of Alabama at Birmingham  Birmingham     AL  35294-0110   \n",
       "2  100706  University of Alabama in Huntsville  Huntsville     AL       35899   \n",
       "3  100751            The University of Alabama  Tuscaloosa     AL  35487-0100   \n",
       "4  100858                    Auburn University      Auburn     AL       36849   \n",
       "\n",
       "                                              REGION  \\\n",
       "0  Southeast (AL, AR, FL, GA, KY, LA, MS, NC, SC,...   \n",
       "1  Southeast (AL, AR, FL, GA, KY, LA, MS, NC, SC,...   \n",
       "2  Southeast (AL, AR, FL, GA, KY, LA, MS, NC, SC,...   \n",
       "3  Southeast (AL, AR, FL, GA, KY, LA, MS, NC, SC,...   \n",
       "4  Southeast (AL, AR, FL, GA, KY, LA, MS, NC, SC,...   \n",
       "\n",
       "                                    PREDDEG  ADM_RATE_ALL  PPTUG_EF  \\\n",
       "0  Predominantly bachelor's-degree granting        0.7505    0.0764   \n",
       "1  Predominantly bachelor's-degree granting        0.9098    0.2801   \n",
       "2  Predominantly bachelor's-degree granting        0.8381    0.2689   \n",
       "3  Predominantly bachelor's-degree granting        0.7948    0.0982   \n",
       "4  Predominantly bachelor's-degree granting        0.7594    0.0906   \n",
       "\n",
       "   SAT_AVG_ALL  ...  UGDS_WHITE UGDS_BLACK  UGDS_HISP  UGDS_ASIAN  UGDS_AIAN  \\\n",
       "0        970.0  ...         NaN        NaN        NaN         NaN        NaN   \n",
       "1       1030.0  ...         NaN        NaN        NaN         NaN        NaN   \n",
       "2       1109.0  ...         NaN        NaN        NaN         NaN        NaN   \n",
       "3       1091.0  ...         NaN        NaN        NaN         NaN        NaN   \n",
       "4       1094.0  ...         NaN        NaN        NaN         NaN        NaN   \n",
       "\n",
       "   UGDS_NHPI  UGDS_2MOR  UGDS_NRA  UGDS_UNKN  year  \n",
       "0        NaN        NaN    0.0402     0.0017  2001  \n",
       "1        NaN        NaN    0.0330     0.0255  2001  \n",
       "2        NaN        NaN    0.0396     0.0000  2001  \n",
       "3        NaN        NaN    0.0159     0.0000  2001  \n",
       "4        NaN        NaN    0.0084     0.0016  2001  \n",
       "\n",
       "[5 rows x 24 columns]"
      ]
     },
     "execution_count": 25,
     "metadata": {},
     "output_type": "execute_result"
    }
   ],
   "source": [
    "df2.head()"
   ]
  },
  {
   "cell_type": "code",
   "execution_count": 26,
   "id": "4cc4209a",
   "metadata": {},
   "outputs": [
    {
     "name": "stdout",
     "output_type": "stream",
     "text": [
      "<class 'pandas.core.frame.DataFrame'>\n",
      "RangeIndex: 58123 entries, 0 to 58122\n",
      "Data columns (total 24 columns):\n",
      " #   Column          Non-Null Count  Dtype  \n",
      "---  ------          --------------  -----  \n",
      " 0   UNITID          58123 non-null  int64  \n",
      " 1   INSTNM          58123 non-null  object \n",
      " 2   CITY            58123 non-null  object \n",
      " 3   STABBR          58123 non-null  object \n",
      " 4   ZIP             58123 non-null  object \n",
      " 5   REGION          58122 non-null  object \n",
      " 6   PREDDEG         58123 non-null  object \n",
      " 7   ADM_RATE_ALL    58123 non-null  float64\n",
      " 8   PPTUG_EF        55491 non-null  float64\n",
      " 9   SAT_AVG_ALL     32424 non-null  float64\n",
      " 10  COSTT4_A        27970 non-null  float64\n",
      " 11  CONTROL         58119 non-null  object \n",
      " 12  TUITIONFEE_IN   48634 non-null  float64\n",
      " 13  TUITIONFEE_OUT  47855 non-null  float64\n",
      " 14  UGDS_WHITE      34930 non-null  float64\n",
      " 15  UGDS_BLACK      34930 non-null  float64\n",
      " 16  UGDS_HISP       34930 non-null  float64\n",
      " 17  UGDS_ASIAN      34930 non-null  float64\n",
      " 18  UGDS_AIAN       34930 non-null  float64\n",
      " 19  UGDS_NHPI       34930 non-null  float64\n",
      " 20  UGDS_2MOR       34930 non-null  float64\n",
      " 21  UGDS_NRA        55613 non-null  float64\n",
      " 22  UGDS_UNKN       55613 non-null  float64\n",
      " 23  year            58123 non-null  int64  \n",
      "dtypes: float64(15), int64(2), object(7)\n",
      "memory usage: 10.6+ MB\n"
     ]
    }
   ],
   "source": [
    "df2.info()"
   ]
  },
  {
   "cell_type": "code",
   "execution_count": 27,
   "id": "0fa9dc57",
   "metadata": {},
   "outputs": [
    {
     "data": {
      "text/plain": [
       "UNITID                0\n",
       "INSTNM                0\n",
       "CITY                  0\n",
       "STABBR                0\n",
       "ZIP                   0\n",
       "REGION                1\n",
       "PREDDEG               0\n",
       "ADM_RATE_ALL          0\n",
       "PPTUG_EF           2632\n",
       "SAT_AVG_ALL       25699\n",
       "COSTT4_A          30153\n",
       "CONTROL               4\n",
       "TUITIONFEE_IN      9489\n",
       "TUITIONFEE_OUT    10268\n",
       "UGDS_WHITE        23193\n",
       "UGDS_BLACK        23193\n",
       "UGDS_HISP         23193\n",
       "UGDS_ASIAN        23193\n",
       "UGDS_AIAN         23193\n",
       "UGDS_NHPI         23193\n",
       "UGDS_2MOR         23193\n",
       "UGDS_NRA           2510\n",
       "UGDS_UNKN          2510\n",
       "year                  0\n",
       "dtype: int64"
      ]
     },
     "execution_count": 27,
     "metadata": {},
     "output_type": "execute_result"
    }
   ],
   "source": [
    "df2.isnull().sum()"
   ]
  },
  {
   "cell_type": "code",
   "execution_count": 28,
   "id": "c226a0e8",
   "metadata": {},
   "outputs": [
    {
     "data": {
      "text/plain": [
       "array([   nan, 0.    , 0.9776, ..., 0.4978, 0.3167, 0.1411])"
      ]
     },
     "execution_count": 28,
     "metadata": {},
     "output_type": "execute_result"
    }
   ],
   "source": [
    "df2['UGDS_BLACK'].unique()"
   ]
  },
  {
   "cell_type": "code",
   "execution_count": 29,
   "id": "5c6853f4",
   "metadata": {},
   "outputs": [],
   "source": [
    "second_drop = ['UGDS_WHITE','UGDS_BLACK', 'UGDS_HISP', 'UGDS_ASIAN', 'UGDS_AIAN', 'UGDS_NHPI',\n",
    "       'UGDS_2MOR', 'UGDS_NRA', 'UGDS_UNKN',]\n",
    "df3 = df2.drop(second_drop, axis=1)"
   ]
  },
  {
   "cell_type": "code",
   "execution_count": 30,
   "id": "41d8caca",
   "metadata": {},
   "outputs": [
    {
     "data": {
      "text/html": [
       "<div>\n",
       "<style scoped>\n",
       "    .dataframe tbody tr th:only-of-type {\n",
       "        vertical-align: middle;\n",
       "    }\n",
       "\n",
       "    .dataframe tbody tr th {\n",
       "        vertical-align: top;\n",
       "    }\n",
       "\n",
       "    .dataframe thead th {\n",
       "        text-align: right;\n",
       "    }\n",
       "</style>\n",
       "<table border=\"1\" class=\"dataframe\">\n",
       "  <thead>\n",
       "    <tr style=\"text-align: right;\">\n",
       "      <th></th>\n",
       "      <th>UNITID</th>\n",
       "      <th>INSTNM</th>\n",
       "      <th>CITY</th>\n",
       "      <th>STABBR</th>\n",
       "      <th>ZIP</th>\n",
       "      <th>REGION</th>\n",
       "      <th>PREDDEG</th>\n",
       "      <th>ADM_RATE_ALL</th>\n",
       "      <th>PPTUG_EF</th>\n",
       "      <th>SAT_AVG_ALL</th>\n",
       "      <th>COSTT4_A</th>\n",
       "      <th>CONTROL</th>\n",
       "      <th>TUITIONFEE_IN</th>\n",
       "      <th>TUITIONFEE_OUT</th>\n",
       "      <th>year</th>\n",
       "    </tr>\n",
       "  </thead>\n",
       "  <tbody>\n",
       "    <tr>\n",
       "      <th>0</th>\n",
       "      <td>100654</td>\n",
       "      <td>Alabama A &amp; M University</td>\n",
       "      <td>Normal</td>\n",
       "      <td>AL</td>\n",
       "      <td>35762</td>\n",
       "      <td>Southeast (AL, AR, FL, GA, KY, LA, MS, NC, SC,...</td>\n",
       "      <td>Predominantly bachelor's-degree granting</td>\n",
       "      <td>0.7505</td>\n",
       "      <td>0.0764</td>\n",
       "      <td>970.0</td>\n",
       "      <td>NaN</td>\n",
       "      <td>Public</td>\n",
       "      <td>4664.0</td>\n",
       "      <td>5200.0</td>\n",
       "      <td>2001</td>\n",
       "    </tr>\n",
       "    <tr>\n",
       "      <th>1</th>\n",
       "      <td>100663</td>\n",
       "      <td>University of Alabama at Birmingham</td>\n",
       "      <td>Birmingham</td>\n",
       "      <td>AL</td>\n",
       "      <td>35294-0110</td>\n",
       "      <td>Southeast (AL, AR, FL, GA, KY, LA, MS, NC, SC,...</td>\n",
       "      <td>Predominantly bachelor's-degree granting</td>\n",
       "      <td>0.9098</td>\n",
       "      <td>0.2801</td>\n",
       "      <td>1030.0</td>\n",
       "      <td>NaN</td>\n",
       "      <td>Public</td>\n",
       "      <td>3640.0</td>\n",
       "      <td>6610.0</td>\n",
       "      <td>2001</td>\n",
       "    </tr>\n",
       "    <tr>\n",
       "      <th>2</th>\n",
       "      <td>100706</td>\n",
       "      <td>University of Alabama in Huntsville</td>\n",
       "      <td>Huntsville</td>\n",
       "      <td>AL</td>\n",
       "      <td>35899</td>\n",
       "      <td>Southeast (AL, AR, FL, GA, KY, LA, MS, NC, SC,...</td>\n",
       "      <td>Predominantly bachelor's-degree granting</td>\n",
       "      <td>0.8381</td>\n",
       "      <td>0.2689</td>\n",
       "      <td>1109.0</td>\n",
       "      <td>NaN</td>\n",
       "      <td>Public</td>\n",
       "      <td>3536.0</td>\n",
       "      <td>7430.0</td>\n",
       "      <td>2001</td>\n",
       "    </tr>\n",
       "    <tr>\n",
       "      <th>3</th>\n",
       "      <td>100751</td>\n",
       "      <td>The University of Alabama</td>\n",
       "      <td>Tuscaloosa</td>\n",
       "      <td>AL</td>\n",
       "      <td>35487-0100</td>\n",
       "      <td>Southeast (AL, AR, FL, GA, KY, LA, MS, NC, SC,...</td>\n",
       "      <td>Predominantly bachelor's-degree granting</td>\n",
       "      <td>0.7948</td>\n",
       "      <td>0.0982</td>\n",
       "      <td>1091.0</td>\n",
       "      <td>NaN</td>\n",
       "      <td>Public</td>\n",
       "      <td>3292.0</td>\n",
       "      <td>8912.0</td>\n",
       "      <td>2001</td>\n",
       "    </tr>\n",
       "    <tr>\n",
       "      <th>4</th>\n",
       "      <td>100858</td>\n",
       "      <td>Auburn University</td>\n",
       "      <td>Auburn</td>\n",
       "      <td>AL</td>\n",
       "      <td>36849</td>\n",
       "      <td>Southeast (AL, AR, FL, GA, KY, LA, MS, NC, SC,...</td>\n",
       "      <td>Predominantly bachelor's-degree granting</td>\n",
       "      <td>0.7594</td>\n",
       "      <td>0.0906</td>\n",
       "      <td>1094.0</td>\n",
       "      <td>NaN</td>\n",
       "      <td>Public</td>\n",
       "      <td>3380.0</td>\n",
       "      <td>9900.0</td>\n",
       "      <td>2001</td>\n",
       "    </tr>\n",
       "  </tbody>\n",
       "</table>\n",
       "</div>"
      ],
      "text/plain": [
       "   UNITID                               INSTNM        CITY STABBR         ZIP  \\\n",
       "0  100654             Alabama A & M University      Normal     AL       35762   \n",
       "1  100663  University of Alabama at Birmingham  Birmingham     AL  35294-0110   \n",
       "2  100706  University of Alabama in Huntsville  Huntsville     AL       35899   \n",
       "3  100751            The University of Alabama  Tuscaloosa     AL  35487-0100   \n",
       "4  100858                    Auburn University      Auburn     AL       36849   \n",
       "\n",
       "                                              REGION  \\\n",
       "0  Southeast (AL, AR, FL, GA, KY, LA, MS, NC, SC,...   \n",
       "1  Southeast (AL, AR, FL, GA, KY, LA, MS, NC, SC,...   \n",
       "2  Southeast (AL, AR, FL, GA, KY, LA, MS, NC, SC,...   \n",
       "3  Southeast (AL, AR, FL, GA, KY, LA, MS, NC, SC,...   \n",
       "4  Southeast (AL, AR, FL, GA, KY, LA, MS, NC, SC,...   \n",
       "\n",
       "                                    PREDDEG  ADM_RATE_ALL  PPTUG_EF  \\\n",
       "0  Predominantly bachelor's-degree granting        0.7505    0.0764   \n",
       "1  Predominantly bachelor's-degree granting        0.9098    0.2801   \n",
       "2  Predominantly bachelor's-degree granting        0.8381    0.2689   \n",
       "3  Predominantly bachelor's-degree granting        0.7948    0.0982   \n",
       "4  Predominantly bachelor's-degree granting        0.7594    0.0906   \n",
       "\n",
       "   SAT_AVG_ALL  COSTT4_A CONTROL  TUITIONFEE_IN  TUITIONFEE_OUT  year  \n",
       "0        970.0       NaN  Public         4664.0          5200.0  2001  \n",
       "1       1030.0       NaN  Public         3640.0          6610.0  2001  \n",
       "2       1109.0       NaN  Public         3536.0          7430.0  2001  \n",
       "3       1091.0       NaN  Public         3292.0          8912.0  2001  \n",
       "4       1094.0       NaN  Public         3380.0          9900.0  2001  "
      ]
     },
     "execution_count": 30,
     "metadata": {},
     "output_type": "execute_result"
    }
   ],
   "source": [
    "df3.head()"
   ]
  },
  {
   "cell_type": "code",
   "execution_count": 31,
   "id": "d72a8e5f",
   "metadata": {},
   "outputs": [
    {
     "name": "stdout",
     "output_type": "stream",
     "text": [
      "<class 'pandas.core.frame.DataFrame'>\n",
      "RangeIndex: 58123 entries, 0 to 58122\n",
      "Data columns (total 15 columns):\n",
      " #   Column          Non-Null Count  Dtype  \n",
      "---  ------          --------------  -----  \n",
      " 0   UNITID          58123 non-null  int64  \n",
      " 1   INSTNM          58123 non-null  object \n",
      " 2   CITY            58123 non-null  object \n",
      " 3   STABBR          58123 non-null  object \n",
      " 4   ZIP             58123 non-null  object \n",
      " 5   REGION          58122 non-null  object \n",
      " 6   PREDDEG         58123 non-null  object \n",
      " 7   ADM_RATE_ALL    58123 non-null  float64\n",
      " 8   PPTUG_EF        55491 non-null  float64\n",
      " 9   SAT_AVG_ALL     32424 non-null  float64\n",
      " 10  COSTT4_A        27970 non-null  float64\n",
      " 11  CONTROL         58119 non-null  object \n",
      " 12  TUITIONFEE_IN   48634 non-null  float64\n",
      " 13  TUITIONFEE_OUT  47855 non-null  float64\n",
      " 14  year            58123 non-null  int64  \n",
      "dtypes: float64(6), int64(2), object(7)\n",
      "memory usage: 6.7+ MB\n"
     ]
    }
   ],
   "source": [
    "df3.info()"
   ]
  },
  {
   "cell_type": "code",
   "execution_count": 32,
   "id": "68af9978",
   "metadata": {},
   "outputs": [
    {
     "data": {
      "text/plain": [
       "UNITID                0\n",
       "INSTNM                0\n",
       "CITY                  0\n",
       "STABBR                0\n",
       "ZIP                   0\n",
       "REGION                1\n",
       "PREDDEG               0\n",
       "ADM_RATE_ALL          0\n",
       "PPTUG_EF           2632\n",
       "SAT_AVG_ALL       25699\n",
       "COSTT4_A          30153\n",
       "CONTROL               4\n",
       "TUITIONFEE_IN      9489\n",
       "TUITIONFEE_OUT    10268\n",
       "year                  0\n",
       "dtype: int64"
      ]
     },
     "execution_count": 32,
     "metadata": {},
     "output_type": "execute_result"
    }
   ],
   "source": [
    "df3.isnull().sum()"
   ]
  },
  {
   "cell_type": "code",
   "execution_count": 33,
   "id": "0e19dc2a",
   "metadata": {},
   "outputs": [],
   "source": [
    "# drop missing rows from the region and control columns\n",
    "df4 = df3.dropna(subset=['REGION', 'CONTROL'])"
   ]
  },
  {
   "cell_type": "code",
   "execution_count": 34,
   "id": "14122c7b",
   "metadata": {},
   "outputs": [
    {
     "data": {
      "text/plain": [
       "UNITID                0\n",
       "INSTNM                0\n",
       "CITY                  0\n",
       "STABBR                0\n",
       "ZIP                   0\n",
       "REGION                0\n",
       "PREDDEG               0\n",
       "ADM_RATE_ALL          0\n",
       "PPTUG_EF           2627\n",
       "SAT_AVG_ALL       25696\n",
       "COSTT4_A          30148\n",
       "CONTROL               0\n",
       "TUITIONFEE_IN      9486\n",
       "TUITIONFEE_OUT    10263\n",
       "year                  0\n",
       "dtype: int64"
      ]
     },
     "execution_count": 34,
     "metadata": {},
     "output_type": "execute_result"
    }
   ],
   "source": [
    "df4.isnull().sum()"
   ]
  },
  {
   "cell_type": "code",
   "execution_count": 35,
   "id": "42df4edd",
   "metadata": {},
   "outputs": [
    {
     "name": "stdout",
     "output_type": "stream",
     "text": [
      "<class 'pandas.core.frame.DataFrame'>\n",
      "Index: 58118 entries, 0 to 58122\n",
      "Data columns (total 15 columns):\n",
      " #   Column          Non-Null Count  Dtype  \n",
      "---  ------          --------------  -----  \n",
      " 0   UNITID          58118 non-null  int64  \n",
      " 1   INSTNM          58118 non-null  object \n",
      " 2   CITY            58118 non-null  object \n",
      " 3   STABBR          58118 non-null  object \n",
      " 4   ZIP             58118 non-null  object \n",
      " 5   REGION          58118 non-null  object \n",
      " 6   PREDDEG         58118 non-null  object \n",
      " 7   ADM_RATE_ALL    58118 non-null  float64\n",
      " 8   PPTUG_EF        55491 non-null  float64\n",
      " 9   SAT_AVG_ALL     32422 non-null  float64\n",
      " 10  COSTT4_A        27970 non-null  float64\n",
      " 11  CONTROL         58118 non-null  object \n",
      " 12  TUITIONFEE_IN   48632 non-null  float64\n",
      " 13  TUITIONFEE_OUT  47855 non-null  float64\n",
      " 14  year            58118 non-null  int64  \n",
      "dtypes: float64(6), int64(2), object(7)\n",
      "memory usage: 7.1+ MB\n"
     ]
    }
   ],
   "source": [
    "df4.info()"
   ]
  },
  {
   "cell_type": "code",
   "execution_count": 36,
   "id": "877a3dda",
   "metadata": {},
   "outputs": [
    {
     "data": {
      "text/plain": [
       "0.15750906993926944"
      ]
     },
     "execution_count": 36,
     "metadata": {},
     "output_type": "execute_result"
    }
   ],
   "source": [
    "# Replacing missing values of PPTUG_EF with the mean\n",
    "mean_pptug = df4['PPTUG_EF'].mean()\n",
    "mean_pptug"
   ]
  },
  {
   "cell_type": "code",
   "execution_count": 37,
   "id": "fd0c2ad8",
   "metadata": {},
   "outputs": [],
   "source": [
    "df5 = df4.copy()"
   ]
  },
  {
   "cell_type": "code",
   "execution_count": 38,
   "id": "85a59c60",
   "metadata": {},
   "outputs": [],
   "source": [
    "df5['PPTUG_EF'] = df4['PPTUG_EF'].fillna(mean_pptug)"
   ]
  },
  {
   "cell_type": "code",
   "execution_count": 39,
   "id": "fd6116af",
   "metadata": {},
   "outputs": [
    {
     "data": {
      "text/plain": [
       "UNITID                0\n",
       "INSTNM                0\n",
       "CITY                  0\n",
       "STABBR                0\n",
       "ZIP                   0\n",
       "REGION                0\n",
       "PREDDEG               0\n",
       "ADM_RATE_ALL          0\n",
       "PPTUG_EF              0\n",
       "SAT_AVG_ALL       25696\n",
       "COSTT4_A          30148\n",
       "CONTROL               0\n",
       "TUITIONFEE_IN      9486\n",
       "TUITIONFEE_OUT    10263\n",
       "year                  0\n",
       "dtype: int64"
      ]
     },
     "execution_count": 39,
     "metadata": {},
     "output_type": "execute_result"
    }
   ],
   "source": [
    "df5.isnull().sum()"
   ]
  },
  {
   "cell_type": "code",
   "execution_count": 40,
   "id": "66b1cbda",
   "metadata": {},
   "outputs": [],
   "source": [
    "# Replacing missing values of TUITIONFEE_IN with the mean\n",
    "df6 = df5.copy()\n",
    "mean_in = df6['TUITIONFEE_IN'].mean()\n",
    "df6['TUITIONFEE_IN'] = df6['TUITIONFEE_IN'].fillna(mean_in)"
   ]
  },
  {
   "cell_type": "code",
   "execution_count": 41,
   "id": "01ee87a3",
   "metadata": {},
   "outputs": [],
   "source": [
    "# Replacing missing values of TUITIONFEE_OUT with the mean\n",
    "df7 = df6.copy()\n",
    "mean_out = df6['TUITIONFEE_OUT'].mean()\n",
    "df7['TUITIONFEE_OUT'] = df6['TUITIONFEE_OUT'].fillna(mean_out)"
   ]
  },
  {
   "cell_type": "code",
   "execution_count": 42,
   "id": "32830114",
   "metadata": {},
   "outputs": [
    {
     "data": {
      "text/plain": [
       "UNITID                0\n",
       "INSTNM                0\n",
       "CITY                  0\n",
       "STABBR                0\n",
       "ZIP                   0\n",
       "REGION                0\n",
       "PREDDEG               0\n",
       "ADM_RATE_ALL          0\n",
       "PPTUG_EF              0\n",
       "SAT_AVG_ALL       25696\n",
       "COSTT4_A          30148\n",
       "CONTROL               0\n",
       "TUITIONFEE_IN         0\n",
       "TUITIONFEE_OUT        0\n",
       "year                  0\n",
       "dtype: int64"
      ]
     },
     "execution_count": 42,
     "metadata": {},
     "output_type": "execute_result"
    }
   ],
   "source": [
    "df7.isnull().sum()"
   ]
  },
  {
   "cell_type": "code",
   "execution_count": 43,
   "id": "777335f7",
   "metadata": {},
   "outputs": [
    {
     "data": {
      "text/plain": [
       "array(['Alabama A & M University', 'University of Alabama at Birmingham',\n",
       "       'University of Alabama in Huntsville', ...,\n",
       "       'Washington State University - Everett Campus',\n",
       "       'Jersey College - Fort Wayne', 'MAK Beauty Institute - Duluth'],\n",
       "      dtype=object)"
      ]
     },
     "execution_count": 43,
     "metadata": {},
     "output_type": "execute_result"
    }
   ],
   "source": [
    "# See the various institutions\n",
    "df7['INSTNM'].unique()"
   ]
  },
  {
   "cell_type": "code",
   "execution_count": 44,
   "id": "3cce38ce",
   "metadata": {},
   "outputs": [
    {
     "data": {
      "text/plain": [
       "4868"
      ]
     },
     "execution_count": 44,
     "metadata": {},
     "output_type": "execute_result"
    }
   ],
   "source": [
    "df7['INSTNM'].nunique()"
   ]
  },
  {
   "cell_type": "code",
   "execution_count": 45,
   "id": "409f6221",
   "metadata": {},
   "outputs": [],
   "source": [
    "# Getting rid of all missing values\n",
    "df8 = df7.dropna()"
   ]
  },
  {
   "cell_type": "code",
   "execution_count": 46,
   "id": "1de56e19",
   "metadata": {},
   "outputs": [
    {
     "name": "stdout",
     "output_type": "stream",
     "text": [
      "<class 'pandas.core.frame.DataFrame'>\n",
      "Index: 18663 entries, 24197 to 57945\n",
      "Data columns (total 15 columns):\n",
      " #   Column          Non-Null Count  Dtype  \n",
      "---  ------          --------------  -----  \n",
      " 0   UNITID          18663 non-null  int64  \n",
      " 1   INSTNM          18663 non-null  object \n",
      " 2   CITY            18663 non-null  object \n",
      " 3   STABBR          18663 non-null  object \n",
      " 4   ZIP             18663 non-null  object \n",
      " 5   REGION          18663 non-null  object \n",
      " 6   PREDDEG         18663 non-null  object \n",
      " 7   ADM_RATE_ALL    18663 non-null  float64\n",
      " 8   PPTUG_EF        18663 non-null  float64\n",
      " 9   SAT_AVG_ALL     18663 non-null  float64\n",
      " 10  COSTT4_A        18663 non-null  float64\n",
      " 11  CONTROL         18663 non-null  object \n",
      " 12  TUITIONFEE_IN   18663 non-null  float64\n",
      " 13  TUITIONFEE_OUT  18663 non-null  float64\n",
      " 14  year            18663 non-null  int64  \n",
      "dtypes: float64(6), int64(2), object(7)\n",
      "memory usage: 2.3+ MB\n"
     ]
    }
   ],
   "source": [
    "df8.info()"
   ]
  },
  {
   "cell_type": "code",
   "execution_count": 47,
   "id": "e1870d33",
   "metadata": {},
   "outputs": [
    {
     "data": {
      "text/plain": [
       "1676"
      ]
     },
     "execution_count": 47,
     "metadata": {},
     "output_type": "execute_result"
    }
   ],
   "source": [
    "# Check the number of universities lost in the cleaning\n",
    "df8['INSTNM'].nunique()"
   ]
  },
  {
   "cell_type": "code",
   "execution_count": 48,
   "id": "4b858bc4",
   "metadata": {},
   "outputs": [],
   "source": [
    "# Creating a new dataframe without SAT_AVG_ALL, COSTT4_A \n",
    "df9 = df7.drop(['SAT_AVG_ALL', 'COSTT4_A'], axis=1)"
   ]
  },
  {
   "cell_type": "code",
   "execution_count": 49,
   "id": "54528f36",
   "metadata": {},
   "outputs": [
    {
     "name": "stdout",
     "output_type": "stream",
     "text": [
      "<class 'pandas.core.frame.DataFrame'>\n",
      "Index: 58118 entries, 0 to 58122\n",
      "Data columns (total 13 columns):\n",
      " #   Column          Non-Null Count  Dtype  \n",
      "---  ------          --------------  -----  \n",
      " 0   UNITID          58118 non-null  int64  \n",
      " 1   INSTNM          58118 non-null  object \n",
      " 2   CITY            58118 non-null  object \n",
      " 3   STABBR          58118 non-null  object \n",
      " 4   ZIP             58118 non-null  object \n",
      " 5   REGION          58118 non-null  object \n",
      " 6   PREDDEG         58118 non-null  object \n",
      " 7   ADM_RATE_ALL    58118 non-null  float64\n",
      " 8   PPTUG_EF        58118 non-null  float64\n",
      " 9   CONTROL         58118 non-null  object \n",
      " 10  TUITIONFEE_IN   58118 non-null  float64\n",
      " 11  TUITIONFEE_OUT  58118 non-null  float64\n",
      " 12  year            58118 non-null  int64  \n",
      "dtypes: float64(4), int64(2), object(7)\n",
      "memory usage: 6.2+ MB\n"
     ]
    }
   ],
   "source": [
    "df9.info()"
   ]
  },
  {
   "cell_type": "markdown",
   "id": "154d5963",
   "metadata": {},
   "source": [
    "### Questions\n",
    "1. What school has the highest tuition from 2017 - 2022\n",
    "2. What region has the highest amount of institutions\n",
    "3. How many Public schools are there in the southwest region \n",
    "4. How many private schools are in the southeast region as at 2022\n",
    "5. Which school has the highest share of part-time students between 2017 - 2022"
   ]
  },
  {
   "cell_type": "code",
   "execution_count": 50,
   "id": "dd905f91",
   "metadata": {},
   "outputs": [
    {
     "data": {
      "text/html": [
       "<div>\n",
       "<style scoped>\n",
       "    .dataframe tbody tr th:only-of-type {\n",
       "        vertical-align: middle;\n",
       "    }\n",
       "\n",
       "    .dataframe tbody tr th {\n",
       "        vertical-align: top;\n",
       "    }\n",
       "\n",
       "    .dataframe thead th {\n",
       "        text-align: right;\n",
       "    }\n",
       "</style>\n",
       "<table border=\"1\" class=\"dataframe\">\n",
       "  <thead>\n",
       "    <tr style=\"text-align: right;\">\n",
       "      <th></th>\n",
       "      <th>UNITID</th>\n",
       "      <th>INSTNM</th>\n",
       "      <th>CITY</th>\n",
       "      <th>STABBR</th>\n",
       "      <th>ZIP</th>\n",
       "      <th>REGION</th>\n",
       "      <th>PREDDEG</th>\n",
       "      <th>ADM_RATE_ALL</th>\n",
       "      <th>PPTUG_EF</th>\n",
       "      <th>CONTROL</th>\n",
       "      <th>TUITIONFEE_IN</th>\n",
       "      <th>TUITIONFEE_OUT</th>\n",
       "      <th>year</th>\n",
       "    </tr>\n",
       "  </thead>\n",
       "  <tbody>\n",
       "    <tr>\n",
       "      <th>0</th>\n",
       "      <td>100654</td>\n",
       "      <td>Alabama A &amp; M University</td>\n",
       "      <td>Normal</td>\n",
       "      <td>AL</td>\n",
       "      <td>35762</td>\n",
       "      <td>Southeast (AL, AR, FL, GA, KY, LA, MS, NC, SC,...</td>\n",
       "      <td>Predominantly bachelor's-degree granting</td>\n",
       "      <td>0.7505</td>\n",
       "      <td>0.0764</td>\n",
       "      <td>Public</td>\n",
       "      <td>4664.0</td>\n",
       "      <td>5200.0</td>\n",
       "      <td>2001</td>\n",
       "    </tr>\n",
       "    <tr>\n",
       "      <th>1</th>\n",
       "      <td>100663</td>\n",
       "      <td>University of Alabama at Birmingham</td>\n",
       "      <td>Birmingham</td>\n",
       "      <td>AL</td>\n",
       "      <td>35294-0110</td>\n",
       "      <td>Southeast (AL, AR, FL, GA, KY, LA, MS, NC, SC,...</td>\n",
       "      <td>Predominantly bachelor's-degree granting</td>\n",
       "      <td>0.9098</td>\n",
       "      <td>0.2801</td>\n",
       "      <td>Public</td>\n",
       "      <td>3640.0</td>\n",
       "      <td>6610.0</td>\n",
       "      <td>2001</td>\n",
       "    </tr>\n",
       "    <tr>\n",
       "      <th>2</th>\n",
       "      <td>100706</td>\n",
       "      <td>University of Alabama in Huntsville</td>\n",
       "      <td>Huntsville</td>\n",
       "      <td>AL</td>\n",
       "      <td>35899</td>\n",
       "      <td>Southeast (AL, AR, FL, GA, KY, LA, MS, NC, SC,...</td>\n",
       "      <td>Predominantly bachelor's-degree granting</td>\n",
       "      <td>0.8381</td>\n",
       "      <td>0.2689</td>\n",
       "      <td>Public</td>\n",
       "      <td>3536.0</td>\n",
       "      <td>7430.0</td>\n",
       "      <td>2001</td>\n",
       "    </tr>\n",
       "    <tr>\n",
       "      <th>3</th>\n",
       "      <td>100751</td>\n",
       "      <td>The University of Alabama</td>\n",
       "      <td>Tuscaloosa</td>\n",
       "      <td>AL</td>\n",
       "      <td>35487-0100</td>\n",
       "      <td>Southeast (AL, AR, FL, GA, KY, LA, MS, NC, SC,...</td>\n",
       "      <td>Predominantly bachelor's-degree granting</td>\n",
       "      <td>0.7948</td>\n",
       "      <td>0.0982</td>\n",
       "      <td>Public</td>\n",
       "      <td>3292.0</td>\n",
       "      <td>8912.0</td>\n",
       "      <td>2001</td>\n",
       "    </tr>\n",
       "    <tr>\n",
       "      <th>4</th>\n",
       "      <td>100858</td>\n",
       "      <td>Auburn University</td>\n",
       "      <td>Auburn</td>\n",
       "      <td>AL</td>\n",
       "      <td>36849</td>\n",
       "      <td>Southeast (AL, AR, FL, GA, KY, LA, MS, NC, SC,...</td>\n",
       "      <td>Predominantly bachelor's-degree granting</td>\n",
       "      <td>0.7594</td>\n",
       "      <td>0.0906</td>\n",
       "      <td>Public</td>\n",
       "      <td>3380.0</td>\n",
       "      <td>9900.0</td>\n",
       "      <td>2001</td>\n",
       "    </tr>\n",
       "  </tbody>\n",
       "</table>\n",
       "</div>"
      ],
      "text/plain": [
       "   UNITID                               INSTNM        CITY STABBR         ZIP  \\\n",
       "0  100654             Alabama A & M University      Normal     AL       35762   \n",
       "1  100663  University of Alabama at Birmingham  Birmingham     AL  35294-0110   \n",
       "2  100706  University of Alabama in Huntsville  Huntsville     AL       35899   \n",
       "3  100751            The University of Alabama  Tuscaloosa     AL  35487-0100   \n",
       "4  100858                    Auburn University      Auburn     AL       36849   \n",
       "\n",
       "                                              REGION  \\\n",
       "0  Southeast (AL, AR, FL, GA, KY, LA, MS, NC, SC,...   \n",
       "1  Southeast (AL, AR, FL, GA, KY, LA, MS, NC, SC,...   \n",
       "2  Southeast (AL, AR, FL, GA, KY, LA, MS, NC, SC,...   \n",
       "3  Southeast (AL, AR, FL, GA, KY, LA, MS, NC, SC,...   \n",
       "4  Southeast (AL, AR, FL, GA, KY, LA, MS, NC, SC,...   \n",
       "\n",
       "                                    PREDDEG  ADM_RATE_ALL  PPTUG_EF CONTROL  \\\n",
       "0  Predominantly bachelor's-degree granting        0.7505    0.0764  Public   \n",
       "1  Predominantly bachelor's-degree granting        0.9098    0.2801  Public   \n",
       "2  Predominantly bachelor's-degree granting        0.8381    0.2689  Public   \n",
       "3  Predominantly bachelor's-degree granting        0.7948    0.0982  Public   \n",
       "4  Predominantly bachelor's-degree granting        0.7594    0.0906  Public   \n",
       "\n",
       "   TUITIONFEE_IN  TUITIONFEE_OUT  year  \n",
       "0         4664.0          5200.0  2001  \n",
       "1         3640.0          6610.0  2001  \n",
       "2         3536.0          7430.0  2001  \n",
       "3         3292.0          8912.0  2001  \n",
       "4         3380.0          9900.0  2001  "
      ]
     },
     "execution_count": 50,
     "metadata": {},
     "output_type": "execute_result"
    }
   ],
   "source": [
    "df9.head()"
   ]
  },
  {
   "cell_type": "markdown",
   "id": "bdc23951",
   "metadata": {},
   "source": [
    "### Transforming data"
   ]
  },
  {
   "cell_type": "code",
   "execution_count": 51,
   "id": "38f020d3",
   "metadata": {},
   "outputs": [],
   "source": [
    "# Get rid of the zip code and UnitID columns\n",
    "df10 = df9.drop(['UNITID', 'ZIP'], axis=1)"
   ]
  },
  {
   "cell_type": "code",
   "execution_count": 52,
   "id": "c29a440a",
   "metadata": {
    "collapsed": true
   },
   "outputs": [
    {
     "data": {
      "text/html": [
       "<div>\n",
       "<style scoped>\n",
       "    .dataframe tbody tr th:only-of-type {\n",
       "        vertical-align: middle;\n",
       "    }\n",
       "\n",
       "    .dataframe tbody tr th {\n",
       "        vertical-align: top;\n",
       "    }\n",
       "\n",
       "    .dataframe thead th {\n",
       "        text-align: right;\n",
       "    }\n",
       "</style>\n",
       "<table border=\"1\" class=\"dataframe\">\n",
       "  <thead>\n",
       "    <tr style=\"text-align: right;\">\n",
       "      <th></th>\n",
       "      <th>INSTNM</th>\n",
       "      <th>CITY</th>\n",
       "      <th>STABBR</th>\n",
       "      <th>REGION</th>\n",
       "      <th>PREDDEG</th>\n",
       "      <th>ADM_RATE_ALL</th>\n",
       "      <th>PPTUG_EF</th>\n",
       "      <th>CONTROL</th>\n",
       "      <th>TUITIONFEE_IN</th>\n",
       "      <th>TUITIONFEE_OUT</th>\n",
       "      <th>year</th>\n",
       "    </tr>\n",
       "  </thead>\n",
       "  <tbody>\n",
       "    <tr>\n",
       "      <th>0</th>\n",
       "      <td>Alabama A &amp; M University</td>\n",
       "      <td>Normal</td>\n",
       "      <td>AL</td>\n",
       "      <td>Southeast (AL, AR, FL, GA, KY, LA, MS, NC, SC,...</td>\n",
       "      <td>Predominantly bachelor's-degree granting</td>\n",
       "      <td>0.7505</td>\n",
       "      <td>0.0764</td>\n",
       "      <td>Public</td>\n",
       "      <td>4664.0</td>\n",
       "      <td>5200.0</td>\n",
       "      <td>2001</td>\n",
       "    </tr>\n",
       "    <tr>\n",
       "      <th>1</th>\n",
       "      <td>University of Alabama at Birmingham</td>\n",
       "      <td>Birmingham</td>\n",
       "      <td>AL</td>\n",
       "      <td>Southeast (AL, AR, FL, GA, KY, LA, MS, NC, SC,...</td>\n",
       "      <td>Predominantly bachelor's-degree granting</td>\n",
       "      <td>0.9098</td>\n",
       "      <td>0.2801</td>\n",
       "      <td>Public</td>\n",
       "      <td>3640.0</td>\n",
       "      <td>6610.0</td>\n",
       "      <td>2001</td>\n",
       "    </tr>\n",
       "    <tr>\n",
       "      <th>2</th>\n",
       "      <td>University of Alabama in Huntsville</td>\n",
       "      <td>Huntsville</td>\n",
       "      <td>AL</td>\n",
       "      <td>Southeast (AL, AR, FL, GA, KY, LA, MS, NC, SC,...</td>\n",
       "      <td>Predominantly bachelor's-degree granting</td>\n",
       "      <td>0.8381</td>\n",
       "      <td>0.2689</td>\n",
       "      <td>Public</td>\n",
       "      <td>3536.0</td>\n",
       "      <td>7430.0</td>\n",
       "      <td>2001</td>\n",
       "    </tr>\n",
       "    <tr>\n",
       "      <th>3</th>\n",
       "      <td>The University of Alabama</td>\n",
       "      <td>Tuscaloosa</td>\n",
       "      <td>AL</td>\n",
       "      <td>Southeast (AL, AR, FL, GA, KY, LA, MS, NC, SC,...</td>\n",
       "      <td>Predominantly bachelor's-degree granting</td>\n",
       "      <td>0.7948</td>\n",
       "      <td>0.0982</td>\n",
       "      <td>Public</td>\n",
       "      <td>3292.0</td>\n",
       "      <td>8912.0</td>\n",
       "      <td>2001</td>\n",
       "    </tr>\n",
       "    <tr>\n",
       "      <th>4</th>\n",
       "      <td>Auburn University</td>\n",
       "      <td>Auburn</td>\n",
       "      <td>AL</td>\n",
       "      <td>Southeast (AL, AR, FL, GA, KY, LA, MS, NC, SC,...</td>\n",
       "      <td>Predominantly bachelor's-degree granting</td>\n",
       "      <td>0.7594</td>\n",
       "      <td>0.0906</td>\n",
       "      <td>Public</td>\n",
       "      <td>3380.0</td>\n",
       "      <td>9900.0</td>\n",
       "      <td>2001</td>\n",
       "    </tr>\n",
       "  </tbody>\n",
       "</table>\n",
       "</div>"
      ],
      "text/plain": [
       "                                INSTNM        CITY STABBR  \\\n",
       "0             Alabama A & M University      Normal     AL   \n",
       "1  University of Alabama at Birmingham  Birmingham     AL   \n",
       "2  University of Alabama in Huntsville  Huntsville     AL   \n",
       "3            The University of Alabama  Tuscaloosa     AL   \n",
       "4                    Auburn University      Auburn     AL   \n",
       "\n",
       "                                              REGION  \\\n",
       "0  Southeast (AL, AR, FL, GA, KY, LA, MS, NC, SC,...   \n",
       "1  Southeast (AL, AR, FL, GA, KY, LA, MS, NC, SC,...   \n",
       "2  Southeast (AL, AR, FL, GA, KY, LA, MS, NC, SC,...   \n",
       "3  Southeast (AL, AR, FL, GA, KY, LA, MS, NC, SC,...   \n",
       "4  Southeast (AL, AR, FL, GA, KY, LA, MS, NC, SC,...   \n",
       "\n",
       "                                    PREDDEG  ADM_RATE_ALL  PPTUG_EF CONTROL  \\\n",
       "0  Predominantly bachelor's-degree granting        0.7505    0.0764  Public   \n",
       "1  Predominantly bachelor's-degree granting        0.9098    0.2801  Public   \n",
       "2  Predominantly bachelor's-degree granting        0.8381    0.2689  Public   \n",
       "3  Predominantly bachelor's-degree granting        0.7948    0.0982  Public   \n",
       "4  Predominantly bachelor's-degree granting        0.7594    0.0906  Public   \n",
       "\n",
       "   TUITIONFEE_IN  TUITIONFEE_OUT  year  \n",
       "0         4664.0          5200.0  2001  \n",
       "1         3640.0          6610.0  2001  \n",
       "2         3536.0          7430.0  2001  \n",
       "3         3292.0          8912.0  2001  \n",
       "4         3380.0          9900.0  2001  "
      ]
     },
     "execution_count": 52,
     "metadata": {},
     "output_type": "execute_result"
    }
   ],
   "source": [
    "df10.head()"
   ]
  },
  {
   "cell_type": "code",
   "execution_count": 53,
   "id": "e32ff3b0",
   "metadata": {},
   "outputs": [
    {
     "data": {
      "text/plain": [
       "array(['Southeast (AL, AR, FL, GA, KY, LA, MS, NC, SC, TN, VA, WV)',\n",
       "       'Far West (AK, CA, HI, NV, OR, WA)', 'Southwest (AZ, NM, OK, TX)',\n",
       "       'Rocky Mountains (CO, ID, MT, UT, WY)', 'U.S. Service Schools',\n",
       "       'New England (CT, ME, MA, NH, RI, VT)',\n",
       "       'Mid East (DE, DC, MD, NJ, NY, PA)',\n",
       "       'Great Lakes (IL, IN, MI, OH, WI)',\n",
       "       'Plains (IA, KS, MN, MO, NE, ND, SD)',\n",
       "       'Outlying Areas (AS, FM, GU, MH, MP, PR, PW, VI)'], dtype=object)"
      ]
     },
     "execution_count": 53,
     "metadata": {},
     "output_type": "execute_result"
    }
   ],
   "source": [
    "df10['REGION'].unique()"
   ]
  },
  {
   "cell_type": "code",
   "execution_count": 58,
   "id": "09eaa2e3",
   "metadata": {},
   "outputs": [
    {
     "data": {
      "text/plain": [
       "['Southeast ', 'AL, AR, FL, GA, KY, LA, MS, NC, SC, TN, VA, WV)']"
      ]
     },
     "execution_count": 58,
     "metadata": {},
     "output_type": "execute_result"
    }
   ],
   "source": [
    "'Southeast (AL, AR, FL, GA, KY, LA, MS, NC, SC, TN, VA, WV)'.split('(')"
   ]
  },
  {
   "cell_type": "code",
   "execution_count": 55,
   "id": "428e7211",
   "metadata": {},
   "outputs": [
    {
     "data": {
      "text/plain": [
       "['How are you doing', ' Hope you are good', '']"
      ]
     },
     "execution_count": 55,
     "metadata": {},
     "output_type": "execute_result"
    }
   ],
   "source": [
    "\"How are you doing? Hope you are good?\".split('?')"
   ]
  },
  {
   "cell_type": "code",
   "execution_count": 56,
   "id": "483f3072",
   "metadata": {},
   "outputs": [],
   "source": [
    "# Extract the Regions\n",
    "df10['Only Region'] = df10['REGION'].apply(lambda x: x.split('(')[0])"
   ]
  },
  {
   "cell_type": "code",
   "execution_count": 67,
   "id": "8b9f3321",
   "metadata": {
    "collapsed": true
   },
   "outputs": [
    {
     "data": {
      "text/html": [
       "<div>\n",
       "<style scoped>\n",
       "    .dataframe tbody tr th:only-of-type {\n",
       "        vertical-align: middle;\n",
       "    }\n",
       "\n",
       "    .dataframe tbody tr th {\n",
       "        vertical-align: top;\n",
       "    }\n",
       "\n",
       "    .dataframe thead th {\n",
       "        text-align: right;\n",
       "    }\n",
       "</style>\n",
       "<table border=\"1\" class=\"dataframe\">\n",
       "  <thead>\n",
       "    <tr style=\"text-align: right;\">\n",
       "      <th></th>\n",
       "      <th>INSTNM</th>\n",
       "      <th>CITY</th>\n",
       "      <th>STABBR</th>\n",
       "      <th>REGION</th>\n",
       "      <th>PREDDEG</th>\n",
       "      <th>ADM_RATE_ALL</th>\n",
       "      <th>PPTUG_EF</th>\n",
       "      <th>CONTROL</th>\n",
       "      <th>TUITIONFEE_IN</th>\n",
       "      <th>TUITIONFEE_OUT</th>\n",
       "      <th>year</th>\n",
       "      <th>Only Region</th>\n",
       "    </tr>\n",
       "  </thead>\n",
       "  <tbody>\n",
       "    <tr>\n",
       "      <th>0</th>\n",
       "      <td>Alabama A &amp; M University</td>\n",
       "      <td>Normal</td>\n",
       "      <td>AL</td>\n",
       "      <td>Southeast (AL, AR, FL, GA, KY, LA, MS, NC, SC,...</td>\n",
       "      <td>Predominantly bachelor's-degree granting</td>\n",
       "      <td>0.750500</td>\n",
       "      <td>0.076400</td>\n",
       "      <td>Public</td>\n",
       "      <td>4664.000000</td>\n",
       "      <td>5200.000000</td>\n",
       "      <td>2001</td>\n",
       "      <td>Southeast</td>\n",
       "    </tr>\n",
       "    <tr>\n",
       "      <th>1</th>\n",
       "      <td>University of Alabama at Birmingham</td>\n",
       "      <td>Birmingham</td>\n",
       "      <td>AL</td>\n",
       "      <td>Southeast (AL, AR, FL, GA, KY, LA, MS, NC, SC,...</td>\n",
       "      <td>Predominantly bachelor's-degree granting</td>\n",
       "      <td>0.909800</td>\n",
       "      <td>0.280100</td>\n",
       "      <td>Public</td>\n",
       "      <td>3640.000000</td>\n",
       "      <td>6610.000000</td>\n",
       "      <td>2001</td>\n",
       "      <td>Southeast</td>\n",
       "    </tr>\n",
       "    <tr>\n",
       "      <th>2</th>\n",
       "      <td>University of Alabama in Huntsville</td>\n",
       "      <td>Huntsville</td>\n",
       "      <td>AL</td>\n",
       "      <td>Southeast (AL, AR, FL, GA, KY, LA, MS, NC, SC,...</td>\n",
       "      <td>Predominantly bachelor's-degree granting</td>\n",
       "      <td>0.838100</td>\n",
       "      <td>0.268900</td>\n",
       "      <td>Public</td>\n",
       "      <td>3536.000000</td>\n",
       "      <td>7430.000000</td>\n",
       "      <td>2001</td>\n",
       "      <td>Southeast</td>\n",
       "    </tr>\n",
       "    <tr>\n",
       "      <th>3</th>\n",
       "      <td>The University of Alabama</td>\n",
       "      <td>Tuscaloosa</td>\n",
       "      <td>AL</td>\n",
       "      <td>Southeast (AL, AR, FL, GA, KY, LA, MS, NC, SC,...</td>\n",
       "      <td>Predominantly bachelor's-degree granting</td>\n",
       "      <td>0.794800</td>\n",
       "      <td>0.098200</td>\n",
       "      <td>Public</td>\n",
       "      <td>3292.000000</td>\n",
       "      <td>8912.000000</td>\n",
       "      <td>2001</td>\n",
       "      <td>Southeast</td>\n",
       "    </tr>\n",
       "    <tr>\n",
       "      <th>4</th>\n",
       "      <td>Auburn University</td>\n",
       "      <td>Auburn</td>\n",
       "      <td>AL</td>\n",
       "      <td>Southeast (AL, AR, FL, GA, KY, LA, MS, NC, SC,...</td>\n",
       "      <td>Predominantly bachelor's-degree granting</td>\n",
       "      <td>0.759400</td>\n",
       "      <td>0.090600</td>\n",
       "      <td>Public</td>\n",
       "      <td>3380.000000</td>\n",
       "      <td>9900.000000</td>\n",
       "      <td>2001</td>\n",
       "      <td>Southeast</td>\n",
       "    </tr>\n",
       "    <tr>\n",
       "      <th>...</th>\n",
       "      <td>...</td>\n",
       "      <td>...</td>\n",
       "      <td>...</td>\n",
       "      <td>...</td>\n",
       "      <td>...</td>\n",
       "      <td>...</td>\n",
       "      <td>...</td>\n",
       "      <td>...</td>\n",
       "      <td>...</td>\n",
       "      <td>...</td>\n",
       "      <td>...</td>\n",
       "      <td>...</td>\n",
       "    </tr>\n",
       "    <tr>\n",
       "      <th>58118</th>\n",
       "      <td>Pennsylvania State University-Penn State Wilke...</td>\n",
       "      <td>Lehman</td>\n",
       "      <td>PA</td>\n",
       "      <td>Mid East (DE, DC, MD, NJ, NY, PA)</td>\n",
       "      <td>Not classified</td>\n",
       "      <td>0.922647</td>\n",
       "      <td>0.157509</td>\n",
       "      <td>Public</td>\n",
       "      <td>13936.000000</td>\n",
       "      <td>22798.000000</td>\n",
       "      <td>2022</td>\n",
       "      <td>Mid East</td>\n",
       "    </tr>\n",
       "    <tr>\n",
       "      <th>58119</th>\n",
       "      <td>Pennsylvania State University-Penn State York</td>\n",
       "      <td>York</td>\n",
       "      <td>PA</td>\n",
       "      <td>Mid East (DE, DC, MD, NJ, NY, PA)</td>\n",
       "      <td>Not classified</td>\n",
       "      <td>0.922647</td>\n",
       "      <td>0.157509</td>\n",
       "      <td>Public</td>\n",
       "      <td>14838.000000</td>\n",
       "      <td>24110.000000</td>\n",
       "      <td>2022</td>\n",
       "      <td>Mid East</td>\n",
       "    </tr>\n",
       "    <tr>\n",
       "      <th>58120</th>\n",
       "      <td>Pennsylvania State University-Penn State Great...</td>\n",
       "      <td>Malvern</td>\n",
       "      <td>PA</td>\n",
       "      <td>Mid East (DE, DC, MD, NJ, NY, PA)</td>\n",
       "      <td>Not classified</td>\n",
       "      <td>0.922647</td>\n",
       "      <td>0.157509</td>\n",
       "      <td>Public</td>\n",
       "      <td>17326.133081</td>\n",
       "      <td>19962.788737</td>\n",
       "      <td>2022</td>\n",
       "      <td>Mid East</td>\n",
       "    </tr>\n",
       "    <tr>\n",
       "      <th>58121</th>\n",
       "      <td>Pennsylvania State University-Penn State Harri...</td>\n",
       "      <td>Middletown</td>\n",
       "      <td>PA</td>\n",
       "      <td>Mid East (DE, DC, MD, NJ, NY, PA)</td>\n",
       "      <td>Not classified</td>\n",
       "      <td>0.922647</td>\n",
       "      <td>0.157509</td>\n",
       "      <td>Public</td>\n",
       "      <td>15586.000000</td>\n",
       "      <td>25600.000000</td>\n",
       "      <td>2022</td>\n",
       "      <td>Mid East</td>\n",
       "    </tr>\n",
       "    <tr>\n",
       "      <th>58122</th>\n",
       "      <td>Pennsylvania State University-Penn State Brand...</td>\n",
       "      <td>Media</td>\n",
       "      <td>PA</td>\n",
       "      <td>Mid East (DE, DC, MD, NJ, NY, PA)</td>\n",
       "      <td>Not classified</td>\n",
       "      <td>0.922647</td>\n",
       "      <td>0.157509</td>\n",
       "      <td>Public</td>\n",
       "      <td>14838.000000</td>\n",
       "      <td>24110.000000</td>\n",
       "      <td>2022</td>\n",
       "      <td>Mid East</td>\n",
       "    </tr>\n",
       "  </tbody>\n",
       "</table>\n",
       "<p>58118 rows × 12 columns</p>\n",
       "</div>"
      ],
      "text/plain": [
       "                                                  INSTNM        CITY STABBR  \\\n",
       "0                               Alabama A & M University      Normal     AL   \n",
       "1                    University of Alabama at Birmingham  Birmingham     AL   \n",
       "2                    University of Alabama in Huntsville  Huntsville     AL   \n",
       "3                              The University of Alabama  Tuscaloosa     AL   \n",
       "4                                      Auburn University      Auburn     AL   \n",
       "...                                                  ...         ...    ...   \n",
       "58118  Pennsylvania State University-Penn State Wilke...      Lehman     PA   \n",
       "58119      Pennsylvania State University-Penn State York        York     PA   \n",
       "58120  Pennsylvania State University-Penn State Great...     Malvern     PA   \n",
       "58121  Pennsylvania State University-Penn State Harri...  Middletown     PA   \n",
       "58122  Pennsylvania State University-Penn State Brand...       Media     PA   \n",
       "\n",
       "                                                  REGION  \\\n",
       "0      Southeast (AL, AR, FL, GA, KY, LA, MS, NC, SC,...   \n",
       "1      Southeast (AL, AR, FL, GA, KY, LA, MS, NC, SC,...   \n",
       "2      Southeast (AL, AR, FL, GA, KY, LA, MS, NC, SC,...   \n",
       "3      Southeast (AL, AR, FL, GA, KY, LA, MS, NC, SC,...   \n",
       "4      Southeast (AL, AR, FL, GA, KY, LA, MS, NC, SC,...   \n",
       "...                                                  ...   \n",
       "58118                  Mid East (DE, DC, MD, NJ, NY, PA)   \n",
       "58119                  Mid East (DE, DC, MD, NJ, NY, PA)   \n",
       "58120                  Mid East (DE, DC, MD, NJ, NY, PA)   \n",
       "58121                  Mid East (DE, DC, MD, NJ, NY, PA)   \n",
       "58122                  Mid East (DE, DC, MD, NJ, NY, PA)   \n",
       "\n",
       "                                        PREDDEG  ADM_RATE_ALL  PPTUG_EF  \\\n",
       "0      Predominantly bachelor's-degree granting      0.750500  0.076400   \n",
       "1      Predominantly bachelor's-degree granting      0.909800  0.280100   \n",
       "2      Predominantly bachelor's-degree granting      0.838100  0.268900   \n",
       "3      Predominantly bachelor's-degree granting      0.794800  0.098200   \n",
       "4      Predominantly bachelor's-degree granting      0.759400  0.090600   \n",
       "...                                         ...           ...       ...   \n",
       "58118                            Not classified      0.922647  0.157509   \n",
       "58119                            Not classified      0.922647  0.157509   \n",
       "58120                            Not classified      0.922647  0.157509   \n",
       "58121                            Not classified      0.922647  0.157509   \n",
       "58122                            Not classified      0.922647  0.157509   \n",
       "\n",
       "      CONTROL  TUITIONFEE_IN  TUITIONFEE_OUT  year Only Region  \n",
       "0      Public    4664.000000     5200.000000  2001  Southeast   \n",
       "1      Public    3640.000000     6610.000000  2001  Southeast   \n",
       "2      Public    3536.000000     7430.000000  2001  Southeast   \n",
       "3      Public    3292.000000     8912.000000  2001  Southeast   \n",
       "4      Public    3380.000000     9900.000000  2001  Southeast   \n",
       "...       ...            ...             ...   ...         ...  \n",
       "58118  Public   13936.000000    22798.000000  2022   Mid East   \n",
       "58119  Public   14838.000000    24110.000000  2022   Mid East   \n",
       "58120  Public   17326.133081    19962.788737  2022   Mid East   \n",
       "58121  Public   15586.000000    25600.000000  2022   Mid East   \n",
       "58122  Public   14838.000000    24110.000000  2022   Mid East   \n",
       "\n",
       "[58118 rows x 12 columns]"
      ]
     },
     "execution_count": 67,
     "metadata": {},
     "output_type": "execute_result"
    }
   ],
   "source": [
    "df10"
   ]
  },
  {
   "cell_type": "code",
   "execution_count": 62,
   "id": "deb4752f",
   "metadata": {},
   "outputs": [],
   "source": [
    "X = 'Far West (AK, CA, HI, NV, OR, WA)'.split('(')"
   ]
  },
  {
   "cell_type": "code",
   "execution_count": 63,
   "id": "065a8c21",
   "metadata": {},
   "outputs": [
    {
     "data": {
      "text/plain": [
       "2"
      ]
     },
     "execution_count": 63,
     "metadata": {},
     "output_type": "execute_result"
    }
   ],
   "source": [
    "len(X)"
   ]
  },
  {
   "cell_type": "code",
   "execution_count": 66,
   "id": "6a515e94",
   "metadata": {},
   "outputs": [
    {
     "data": {
      "text/plain": [
       "'AK, CA, HI, NV, OR, WA)'"
      ]
     },
     "execution_count": 66,
     "metadata": {},
     "output_type": "execute_result"
    }
   ],
   "source": [
    "X[1]"
   ]
  },
  {
   "cell_type": "code",
   "execution_count": 68,
   "id": "3aaf19b2",
   "metadata": {},
   "outputs": [
    {
     "data": {
      "text/plain": [
       "array(['Southeast ', 'Far West ', 'Southwest ', 'Rocky Mountains ',\n",
       "       'U.S. Service Schools', 'New England ', 'Mid East ',\n",
       "       'Great Lakes ', 'Plains ', 'Outlying Areas '], dtype=object)"
      ]
     },
     "execution_count": 68,
     "metadata": {},
     "output_type": "execute_result"
    }
   ],
   "source": [
    "df10['Only Region'].unique()"
   ]
  },
  {
   "cell_type": "code",
   "execution_count": 69,
   "id": "3ec8d2ea",
   "metadata": {},
   "outputs": [],
   "source": [
    "df11 =df10.drop('REGION', axis=1)"
   ]
  },
  {
   "cell_type": "code",
   "execution_count": 71,
   "id": "ebd9772a",
   "metadata": {},
   "outputs": [
    {
     "data": {
      "text/html": [
       "<div>\n",
       "<style scoped>\n",
       "    .dataframe tbody tr th:only-of-type {\n",
       "        vertical-align: middle;\n",
       "    }\n",
       "\n",
       "    .dataframe tbody tr th {\n",
       "        vertical-align: top;\n",
       "    }\n",
       "\n",
       "    .dataframe thead th {\n",
       "        text-align: right;\n",
       "    }\n",
       "</style>\n",
       "<table border=\"1\" class=\"dataframe\">\n",
       "  <thead>\n",
       "    <tr style=\"text-align: right;\">\n",
       "      <th></th>\n",
       "      <th>INSTNM</th>\n",
       "      <th>CITY</th>\n",
       "      <th>STABBR</th>\n",
       "      <th>PREDDEG</th>\n",
       "      <th>ADM_RATE_ALL</th>\n",
       "      <th>PPTUG_EF</th>\n",
       "      <th>CONTROL</th>\n",
       "      <th>TUITIONFEE_IN</th>\n",
       "      <th>TUITIONFEE_OUT</th>\n",
       "      <th>year</th>\n",
       "      <th>Only Region</th>\n",
       "    </tr>\n",
       "  </thead>\n",
       "  <tbody>\n",
       "    <tr>\n",
       "      <th>0</th>\n",
       "      <td>Alabama A &amp; M University</td>\n",
       "      <td>Normal</td>\n",
       "      <td>AL</td>\n",
       "      <td>Predominantly bachelor's-degree granting</td>\n",
       "      <td>0.7505</td>\n",
       "      <td>0.0764</td>\n",
       "      <td>Public</td>\n",
       "      <td>4664.0</td>\n",
       "      <td>5200.0</td>\n",
       "      <td>2001</td>\n",
       "      <td>Southeast</td>\n",
       "    </tr>\n",
       "    <tr>\n",
       "      <th>1</th>\n",
       "      <td>University of Alabama at Birmingham</td>\n",
       "      <td>Birmingham</td>\n",
       "      <td>AL</td>\n",
       "      <td>Predominantly bachelor's-degree granting</td>\n",
       "      <td>0.9098</td>\n",
       "      <td>0.2801</td>\n",
       "      <td>Public</td>\n",
       "      <td>3640.0</td>\n",
       "      <td>6610.0</td>\n",
       "      <td>2001</td>\n",
       "      <td>Southeast</td>\n",
       "    </tr>\n",
       "  </tbody>\n",
       "</table>\n",
       "</div>"
      ],
      "text/plain": [
       "                                INSTNM        CITY STABBR  \\\n",
       "0             Alabama A & M University      Normal     AL   \n",
       "1  University of Alabama at Birmingham  Birmingham     AL   \n",
       "\n",
       "                                    PREDDEG  ADM_RATE_ALL  PPTUG_EF CONTROL  \\\n",
       "0  Predominantly bachelor's-degree granting        0.7505    0.0764  Public   \n",
       "1  Predominantly bachelor's-degree granting        0.9098    0.2801  Public   \n",
       "\n",
       "   TUITIONFEE_IN  TUITIONFEE_OUT  year Only Region  \n",
       "0         4664.0          5200.0  2001  Southeast   \n",
       "1         3640.0          6610.0  2001  Southeast   "
      ]
     },
     "execution_count": 71,
     "metadata": {},
     "output_type": "execute_result"
    }
   ],
   "source": [
    "df11.head(2)"
   ]
  },
  {
   "cell_type": "code",
   "execution_count": 134,
   "id": "5095e099",
   "metadata": {},
   "outputs": [
    {
     "data": {
      "text/plain": [
       "0        Southeast\n",
       "1        Southeast\n",
       "2        Southeast\n",
       "3        Southeast\n",
       "4        Southeast\n",
       "           ...    \n",
       "58118     Mid East\n",
       "58119     Mid East\n",
       "58120     Mid East\n",
       "58121     Mid East\n",
       "58122     Mid East\n",
       "Name: Only Region, Length: 58118, dtype: object"
      ]
     },
     "execution_count": 134,
     "metadata": {},
     "output_type": "execute_result"
    }
   ],
   "source": [
    "df11['Only Region'].str.strip(' ')"
   ]
  },
  {
   "cell_type": "code",
   "execution_count": null,
   "id": "43de6d14",
   "metadata": {},
   "outputs": [],
   "source": []
  },
  {
   "cell_type": "code",
   "execution_count": 135,
   "id": "67886314",
   "metadata": {},
   "outputs": [],
   "source": [
    "# Question 1\n",
    "data_2017_2022 = df11[df11['year'] >= 2017]"
   ]
  },
  {
   "cell_type": "code",
   "execution_count": 136,
   "id": "2fe4b17d",
   "metadata": {
    "collapsed": true
   },
   "outputs": [
    {
     "data": {
      "text/html": [
       "<div>\n",
       "<style scoped>\n",
       "    .dataframe tbody tr th:only-of-type {\n",
       "        vertical-align: middle;\n",
       "    }\n",
       "\n",
       "    .dataframe tbody tr th {\n",
       "        vertical-align: top;\n",
       "    }\n",
       "\n",
       "    .dataframe thead th {\n",
       "        text-align: right;\n",
       "    }\n",
       "</style>\n",
       "<table border=\"1\" class=\"dataframe\">\n",
       "  <thead>\n",
       "    <tr style=\"text-align: right;\">\n",
       "      <th></th>\n",
       "      <th>INSTNM</th>\n",
       "      <th>CITY</th>\n",
       "      <th>STABBR</th>\n",
       "      <th>PREDDEG</th>\n",
       "      <th>ADM_RATE_ALL</th>\n",
       "      <th>PPTUG_EF</th>\n",
       "      <th>CONTROL</th>\n",
       "      <th>TUITIONFEE_IN</th>\n",
       "      <th>TUITIONFEE_OUT</th>\n",
       "      <th>year</th>\n",
       "      <th>Only Region</th>\n",
       "    </tr>\n",
       "  </thead>\n",
       "  <tbody>\n",
       "    <tr>\n",
       "      <th>44708</th>\n",
       "      <td>Alabama A &amp; M University</td>\n",
       "      <td>Normal</td>\n",
       "      <td>AL</td>\n",
       "      <td>Predominantly bachelor's-degree granting</td>\n",
       "      <td>0.9027</td>\n",
       "      <td>0.0655</td>\n",
       "      <td>Public</td>\n",
       "      <td>9857.0</td>\n",
       "      <td>18236.0</td>\n",
       "      <td>2017</td>\n",
       "      <td>Southeast</td>\n",
       "    </tr>\n",
       "    <tr>\n",
       "      <th>44709</th>\n",
       "      <td>University of Alabama at Birmingham</td>\n",
       "      <td>Birmingham</td>\n",
       "      <td>AL</td>\n",
       "      <td>Predominantly bachelor's-degree granting</td>\n",
       "      <td>0.9181</td>\n",
       "      <td>0.2515</td>\n",
       "      <td>Public</td>\n",
       "      <td>8328.0</td>\n",
       "      <td>19032.0</td>\n",
       "      <td>2017</td>\n",
       "      <td>Southeast</td>\n",
       "    </tr>\n",
       "    <tr>\n",
       "      <th>44710</th>\n",
       "      <td>University of Alabama in Huntsville</td>\n",
       "      <td>Huntsville</td>\n",
       "      <td>AL</td>\n",
       "      <td>Predominantly bachelor's-degree granting</td>\n",
       "      <td>0.8123</td>\n",
       "      <td>0.1496</td>\n",
       "      <td>Public</td>\n",
       "      <td>10280.0</td>\n",
       "      <td>21480.0</td>\n",
       "      <td>2017</td>\n",
       "      <td>Southeast</td>\n",
       "    </tr>\n",
       "    <tr>\n",
       "      <th>44711</th>\n",
       "      <td>Alabama State University</td>\n",
       "      <td>Montgomery</td>\n",
       "      <td>AL</td>\n",
       "      <td>Predominantly bachelor's-degree granting</td>\n",
       "      <td>0.9787</td>\n",
       "      <td>0.0771</td>\n",
       "      <td>Public</td>\n",
       "      <td>11068.0</td>\n",
       "      <td>19396.0</td>\n",
       "      <td>2017</td>\n",
       "      <td>Southeast</td>\n",
       "    </tr>\n",
       "    <tr>\n",
       "      <th>44712</th>\n",
       "      <td>The University of Alabama</td>\n",
       "      <td>Tuscaloosa</td>\n",
       "      <td>AL</td>\n",
       "      <td>Predominantly bachelor's-degree granting</td>\n",
       "      <td>0.5330</td>\n",
       "      <td>0.0792</td>\n",
       "      <td>Public</td>\n",
       "      <td>10780.0</td>\n",
       "      <td>28100.0</td>\n",
       "      <td>2017</td>\n",
       "      <td>Southeast</td>\n",
       "    </tr>\n",
       "  </tbody>\n",
       "</table>\n",
       "</div>"
      ],
      "text/plain": [
       "                                    INSTNM        CITY STABBR  \\\n",
       "44708             Alabama A & M University      Normal     AL   \n",
       "44709  University of Alabama at Birmingham  Birmingham     AL   \n",
       "44710  University of Alabama in Huntsville  Huntsville     AL   \n",
       "44711             Alabama State University  Montgomery     AL   \n",
       "44712            The University of Alabama  Tuscaloosa     AL   \n",
       "\n",
       "                                        PREDDEG  ADM_RATE_ALL  PPTUG_EF  \\\n",
       "44708  Predominantly bachelor's-degree granting        0.9027    0.0655   \n",
       "44709  Predominantly bachelor's-degree granting        0.9181    0.2515   \n",
       "44710  Predominantly bachelor's-degree granting        0.8123    0.1496   \n",
       "44711  Predominantly bachelor's-degree granting        0.9787    0.0771   \n",
       "44712  Predominantly bachelor's-degree granting        0.5330    0.0792   \n",
       "\n",
       "      CONTROL  TUITIONFEE_IN  TUITIONFEE_OUT  year Only Region  \n",
       "44708  Public         9857.0         18236.0  2017  Southeast   \n",
       "44709  Public         8328.0         19032.0  2017  Southeast   \n",
       "44710  Public        10280.0         21480.0  2017  Southeast   \n",
       "44711  Public        11068.0         19396.0  2017  Southeast   \n",
       "44712  Public        10780.0         28100.0  2017  Southeast   "
      ]
     },
     "execution_count": 136,
     "metadata": {},
     "output_type": "execute_result"
    }
   ],
   "source": [
    "data_2017_2022.head()"
   ]
  },
  {
   "cell_type": "code",
   "execution_count": 137,
   "id": "814e72f0",
   "metadata": {
    "collapsed": true
   },
   "outputs": [
    {
     "name": "stdout",
     "output_type": "stream",
     "text": [
      "<class 'pandas.core.frame.DataFrame'>\n",
      "Index: 13415 entries, 44708 to 58122\n",
      "Data columns (total 11 columns):\n",
      " #   Column          Non-Null Count  Dtype  \n",
      "---  ------          --------------  -----  \n",
      " 0   INSTNM          13415 non-null  object \n",
      " 1   CITY            13415 non-null  object \n",
      " 2   STABBR          13415 non-null  object \n",
      " 3   PREDDEG         13415 non-null  object \n",
      " 4   ADM_RATE_ALL    13415 non-null  float64\n",
      " 5   PPTUG_EF        13415 non-null  float64\n",
      " 6   CONTROL         13415 non-null  object \n",
      " 7   TUITIONFEE_IN   13415 non-null  float64\n",
      " 8   TUITIONFEE_OUT  13415 non-null  float64\n",
      " 9   year            13415 non-null  int64  \n",
      " 10  Only Region     13415 non-null  object \n",
      "dtypes: float64(4), int64(1), object(6)\n",
      "memory usage: 1.2+ MB\n"
     ]
    }
   ],
   "source": [
    "data_2017_2022.info()"
   ]
  },
  {
   "cell_type": "code",
   "execution_count": 138,
   "id": "cc71983d",
   "metadata": {},
   "outputs": [],
   "source": [
    "institution = data_2017_2022.groupby('INSTNM')"
   ]
  },
  {
   "cell_type": "code",
   "execution_count": 139,
   "id": "8b8164dc",
   "metadata": {},
   "outputs": [
    {
     "data": {
      "text/html": [
       "<div>\n",
       "<style scoped>\n",
       "    .dataframe tbody tr th:only-of-type {\n",
       "        vertical-align: middle;\n",
       "    }\n",
       "\n",
       "    .dataframe tbody tr th {\n",
       "        vertical-align: top;\n",
       "    }\n",
       "\n",
       "    .dataframe thead th {\n",
       "        text-align: right;\n",
       "    }\n",
       "</style>\n",
       "<table border=\"1\" class=\"dataframe\">\n",
       "  <thead>\n",
       "    <tr style=\"text-align: right;\">\n",
       "      <th></th>\n",
       "      <th>TUITIONFEE_IN</th>\n",
       "    </tr>\n",
       "    <tr>\n",
       "      <th>INSTNM</th>\n",
       "      <th></th>\n",
       "    </tr>\n",
       "  </thead>\n",
       "  <tbody>\n",
       "    <tr>\n",
       "      <th>Columbia University in the City of New York</th>\n",
       "      <td>61192.833333</td>\n",
       "    </tr>\n",
       "  </tbody>\n",
       "</table>\n",
       "</div>"
      ],
      "text/plain": [
       "                                             TUITIONFEE_IN\n",
       "INSTNM                                                    \n",
       "Columbia University in the City of New York   61192.833333"
      ]
     },
     "execution_count": 139,
     "metadata": {},
     "output_type": "execute_result"
    }
   ],
   "source": [
    "# Get the average tuition fee_in from 2017 - 2022\n",
    "institution[['TUITIONFEE_IN']].mean().sort_values(by='TUITIONFEE_IN', ascending=False).head(1)"
   ]
  },
  {
   "cell_type": "code",
   "execution_count": 140,
   "id": "442a4ebf",
   "metadata": {},
   "outputs": [
    {
     "data": {
      "text/html": [
       "<div>\n",
       "<style scoped>\n",
       "    .dataframe tbody tr th:only-of-type {\n",
       "        vertical-align: middle;\n",
       "    }\n",
       "\n",
       "    .dataframe tbody tr th {\n",
       "        vertical-align: top;\n",
       "    }\n",
       "\n",
       "    .dataframe thead th {\n",
       "        text-align: right;\n",
       "    }\n",
       "</style>\n",
       "<table border=\"1\" class=\"dataframe\">\n",
       "  <thead>\n",
       "    <tr style=\"text-align: right;\">\n",
       "      <th></th>\n",
       "      <th>TUITIONFEE_OUT</th>\n",
       "    </tr>\n",
       "    <tr>\n",
       "      <th>INSTNM</th>\n",
       "      <th></th>\n",
       "    </tr>\n",
       "  </thead>\n",
       "  <tbody>\n",
       "    <tr>\n",
       "      <th>Columbia University in the City of New York</th>\n",
       "      <td>61192.833333</td>\n",
       "    </tr>\n",
       "  </tbody>\n",
       "</table>\n",
       "</div>"
      ],
      "text/plain": [
       "                                             TUITIONFEE_OUT\n",
       "INSTNM                                                     \n",
       "Columbia University in the City of New York    61192.833333"
      ]
     },
     "execution_count": 140,
     "metadata": {},
     "output_type": "execute_result"
    }
   ],
   "source": [
    "institution[['TUITIONFEE_OUT']].mean().sort_values(by='TUITIONFEE_OUT', ascending=False).head(1)"
   ]
  },
  {
   "cell_type": "code",
   "execution_count": 141,
   "id": "02ff3662",
   "metadata": {},
   "outputs": [],
   "source": [
    "# Question 2\n",
    "region = df11.groupby('Only Region')"
   ]
  },
  {
   "cell_type": "code",
   "execution_count": 142,
   "id": "21313620",
   "metadata": {},
   "outputs": [
    {
     "data": {
      "text/plain": [
       "Only Region\n",
       "Southeast               1130\n",
       "Mid East                 907\n",
       "Great Lakes              770\n",
       "Far West                 673\n",
       "Southwest                435\n",
       "Plains                   417\n",
       "New England              315\n",
       "Rocky Mountains          146\n",
       "Outlying Areas           119\n",
       "U.S. Service Schools       5\n",
       "Name: INSTNM, dtype: int64"
      ]
     },
     "execution_count": 142,
     "metadata": {},
     "output_type": "execute_result"
    }
   ],
   "source": [
    "region['INSTNM'].nunique().sort_values(ascending=False)"
   ]
  },
  {
   "cell_type": "code",
   "execution_count": 145,
   "id": "2d168aa2",
   "metadata": {},
   "outputs": [],
   "source": [
    "# Question 3\n",
    "south_west = region.get_group('Southwest ')"
   ]
  },
  {
   "cell_type": "code",
   "execution_count": 146,
   "id": "6297bbbf",
   "metadata": {},
   "outputs": [
    {
     "data": {
      "text/plain": [
       "pandas.core.frame.DataFrame"
      ]
     },
     "execution_count": 146,
     "metadata": {},
     "output_type": "execute_result"
    }
   ],
   "source": [
    "type(south_west)"
   ]
  },
  {
   "cell_type": "code",
   "execution_count": 148,
   "id": "c52bba65",
   "metadata": {
    "collapsed": true
   },
   "outputs": [
    {
     "data": {
      "text/html": [
       "<div>\n",
       "<style scoped>\n",
       "    .dataframe tbody tr th:only-of-type {\n",
       "        vertical-align: middle;\n",
       "    }\n",
       "\n",
       "    .dataframe tbody tr th {\n",
       "        vertical-align: top;\n",
       "    }\n",
       "\n",
       "    .dataframe thead th {\n",
       "        text-align: right;\n",
       "    }\n",
       "</style>\n",
       "<table border=\"1\" class=\"dataframe\">\n",
       "  <thead>\n",
       "    <tr style=\"text-align: right;\">\n",
       "      <th></th>\n",
       "      <th>INSTNM</th>\n",
       "      <th>CITY</th>\n",
       "      <th>STABBR</th>\n",
       "      <th>PREDDEG</th>\n",
       "      <th>ADM_RATE_ALL</th>\n",
       "      <th>PPTUG_EF</th>\n",
       "      <th>CONTROL</th>\n",
       "      <th>TUITIONFEE_IN</th>\n",
       "      <th>TUITIONFEE_OUT</th>\n",
       "      <th>year</th>\n",
       "      <th>Only Region</th>\n",
       "    </tr>\n",
       "  </thead>\n",
       "  <tbody>\n",
       "    <tr>\n",
       "      <th>31</th>\n",
       "      <td>Everest College-Phoenix</td>\n",
       "      <td>Phoenix</td>\n",
       "      <td>AZ</td>\n",
       "      <td>Predominantly associate's-degree granting</td>\n",
       "      <td>0.8989</td>\n",
       "      <td>0.0000</td>\n",
       "      <td>Private for-profit</td>\n",
       "      <td>18920.000000</td>\n",
       "      <td>18920.000000</td>\n",
       "      <td>2001</td>\n",
       "      <td>Southwest</td>\n",
       "    </tr>\n",
       "    <tr>\n",
       "      <th>32</th>\n",
       "      <td>Collins College</td>\n",
       "      <td>Phoenix</td>\n",
       "      <td>AZ</td>\n",
       "      <td>Predominantly associate's-degree granting</td>\n",
       "      <td>0.5030</td>\n",
       "      <td>0.0000</td>\n",
       "      <td>Private for-profit</td>\n",
       "      <td>17326.133081</td>\n",
       "      <td>19962.788737</td>\n",
       "      <td>2001</td>\n",
       "      <td>Southwest</td>\n",
       "    </tr>\n",
       "    <tr>\n",
       "      <th>33</th>\n",
       "      <td>American Indian College Inc</td>\n",
       "      <td>Phoenix</td>\n",
       "      <td>AZ</td>\n",
       "      <td>Predominantly bachelor's-degree granting</td>\n",
       "      <td>0.4444</td>\n",
       "      <td>0.1613</td>\n",
       "      <td>Private nonprofit</td>\n",
       "      <td>4330.000000</td>\n",
       "      <td>4330.000000</td>\n",
       "      <td>2001</td>\n",
       "      <td>Southwest</td>\n",
       "    </tr>\n",
       "    <tr>\n",
       "      <th>34</th>\n",
       "      <td>American Institute of Trucking</td>\n",
       "      <td>Phoenix</td>\n",
       "      <td>AZ</td>\n",
       "      <td>Predominantly certificate-degree granting</td>\n",
       "      <td>0.7143</td>\n",
       "      <td>0.0000</td>\n",
       "      <td>Private for-profit</td>\n",
       "      <td>17326.133081</td>\n",
       "      <td>19962.788737</td>\n",
       "      <td>2001</td>\n",
       "      <td>Southwest</td>\n",
       "    </tr>\n",
       "    <tr>\n",
       "      <th>35</th>\n",
       "      <td>Carrington College-Phoenix North</td>\n",
       "      <td>Phoenix</td>\n",
       "      <td>AZ</td>\n",
       "      <td>Predominantly certificate-degree granting</td>\n",
       "      <td>0.8327</td>\n",
       "      <td>0.0000</td>\n",
       "      <td>Private for-profit</td>\n",
       "      <td>17326.133081</td>\n",
       "      <td>19962.788737</td>\n",
       "      <td>2001</td>\n",
       "      <td>Southwest</td>\n",
       "    </tr>\n",
       "  </tbody>\n",
       "</table>\n",
       "</div>"
      ],
      "text/plain": [
       "                              INSTNM     CITY STABBR  \\\n",
       "31           Everest College-Phoenix  Phoenix     AZ   \n",
       "32                   Collins College  Phoenix     AZ   \n",
       "33       American Indian College Inc  Phoenix     AZ   \n",
       "34    American Institute of Trucking  Phoenix     AZ   \n",
       "35  Carrington College-Phoenix North  Phoenix     AZ   \n",
       "\n",
       "                                      PREDDEG  ADM_RATE_ALL  PPTUG_EF  \\\n",
       "31  Predominantly associate's-degree granting        0.8989    0.0000   \n",
       "32  Predominantly associate's-degree granting        0.5030    0.0000   \n",
       "33   Predominantly bachelor's-degree granting        0.4444    0.1613   \n",
       "34  Predominantly certificate-degree granting        0.7143    0.0000   \n",
       "35  Predominantly certificate-degree granting        0.8327    0.0000   \n",
       "\n",
       "               CONTROL  TUITIONFEE_IN  TUITIONFEE_OUT  year Only Region  \n",
       "31  Private for-profit   18920.000000    18920.000000  2001  Southwest   \n",
       "32  Private for-profit   17326.133081    19962.788737  2001  Southwest   \n",
       "33   Private nonprofit    4330.000000     4330.000000  2001  Southwest   \n",
       "34  Private for-profit   17326.133081    19962.788737  2001  Southwest   \n",
       "35  Private for-profit   17326.133081    19962.788737  2001  Southwest   "
      ]
     },
     "execution_count": 148,
     "metadata": {},
     "output_type": "execute_result"
    }
   ],
   "source": [
    "south_west.head()"
   ]
  },
  {
   "cell_type": "code",
   "execution_count": 150,
   "id": "9d4936e4",
   "metadata": {},
   "outputs": [
    {
     "data": {
      "text/plain": [
       "array(['Private for-profit', 'Private nonprofit', 'Public'], dtype=object)"
      ]
     },
     "execution_count": 150,
     "metadata": {},
     "output_type": "execute_result"
    }
   ],
   "source": [
    "south_west['CONTROL'].unique()"
   ]
  },
  {
   "cell_type": "code",
   "execution_count": 152,
   "id": "9154787c",
   "metadata": {},
   "outputs": [],
   "source": [
    "southwest_public = south_west[south_west['CONTROL']=='Public']"
   ]
  },
  {
   "cell_type": "code",
   "execution_count": 153,
   "id": "bd2d8f63",
   "metadata": {},
   "outputs": [
    {
     "data": {
      "text/plain": [
       "107"
      ]
     },
     "execution_count": 153,
     "metadata": {},
     "output_type": "execute_result"
    }
   ],
   "source": [
    "southwest_public['INSTNM'].nunique()"
   ]
  },
  {
   "cell_type": "code",
   "execution_count": 154,
   "id": "f54757aa",
   "metadata": {},
   "outputs": [],
   "source": [
    "# Question 4\n",
    "south_east = region.get_group('Southeast ')"
   ]
  },
  {
   "cell_type": "code",
   "execution_count": 156,
   "id": "95bfa9ca",
   "metadata": {
    "collapsed": true
   },
   "outputs": [
    {
     "data": {
      "text/html": [
       "<div>\n",
       "<style scoped>\n",
       "    .dataframe tbody tr th:only-of-type {\n",
       "        vertical-align: middle;\n",
       "    }\n",
       "\n",
       "    .dataframe tbody tr th {\n",
       "        vertical-align: top;\n",
       "    }\n",
       "\n",
       "    .dataframe thead th {\n",
       "        text-align: right;\n",
       "    }\n",
       "</style>\n",
       "<table border=\"1\" class=\"dataframe\">\n",
       "  <thead>\n",
       "    <tr style=\"text-align: right;\">\n",
       "      <th></th>\n",
       "      <th>INSTNM</th>\n",
       "      <th>CITY</th>\n",
       "      <th>STABBR</th>\n",
       "      <th>PREDDEG</th>\n",
       "      <th>ADM_RATE_ALL</th>\n",
       "      <th>PPTUG_EF</th>\n",
       "      <th>CONTROL</th>\n",
       "      <th>TUITIONFEE_IN</th>\n",
       "      <th>TUITIONFEE_OUT</th>\n",
       "      <th>year</th>\n",
       "      <th>Only Region</th>\n",
       "    </tr>\n",
       "  </thead>\n",
       "  <tbody>\n",
       "    <tr>\n",
       "      <th>0</th>\n",
       "      <td>Alabama A &amp; M University</td>\n",
       "      <td>Normal</td>\n",
       "      <td>AL</td>\n",
       "      <td>Predominantly bachelor's-degree granting</td>\n",
       "      <td>0.7505</td>\n",
       "      <td>0.0764</td>\n",
       "      <td>Public</td>\n",
       "      <td>4664.0</td>\n",
       "      <td>5200.0</td>\n",
       "      <td>2001</td>\n",
       "      <td>Southeast</td>\n",
       "    </tr>\n",
       "    <tr>\n",
       "      <th>1</th>\n",
       "      <td>University of Alabama at Birmingham</td>\n",
       "      <td>Birmingham</td>\n",
       "      <td>AL</td>\n",
       "      <td>Predominantly bachelor's-degree granting</td>\n",
       "      <td>0.9098</td>\n",
       "      <td>0.2801</td>\n",
       "      <td>Public</td>\n",
       "      <td>3640.0</td>\n",
       "      <td>6610.0</td>\n",
       "      <td>2001</td>\n",
       "      <td>Southeast</td>\n",
       "    </tr>\n",
       "    <tr>\n",
       "      <th>2</th>\n",
       "      <td>University of Alabama in Huntsville</td>\n",
       "      <td>Huntsville</td>\n",
       "      <td>AL</td>\n",
       "      <td>Predominantly bachelor's-degree granting</td>\n",
       "      <td>0.8381</td>\n",
       "      <td>0.2689</td>\n",
       "      <td>Public</td>\n",
       "      <td>3536.0</td>\n",
       "      <td>7430.0</td>\n",
       "      <td>2001</td>\n",
       "      <td>Southeast</td>\n",
       "    </tr>\n",
       "    <tr>\n",
       "      <th>3</th>\n",
       "      <td>The University of Alabama</td>\n",
       "      <td>Tuscaloosa</td>\n",
       "      <td>AL</td>\n",
       "      <td>Predominantly bachelor's-degree granting</td>\n",
       "      <td>0.7948</td>\n",
       "      <td>0.0982</td>\n",
       "      <td>Public</td>\n",
       "      <td>3292.0</td>\n",
       "      <td>8912.0</td>\n",
       "      <td>2001</td>\n",
       "      <td>Southeast</td>\n",
       "    </tr>\n",
       "    <tr>\n",
       "      <th>4</th>\n",
       "      <td>Auburn University</td>\n",
       "      <td>Auburn</td>\n",
       "      <td>AL</td>\n",
       "      <td>Predominantly bachelor's-degree granting</td>\n",
       "      <td>0.7594</td>\n",
       "      <td>0.0906</td>\n",
       "      <td>Public</td>\n",
       "      <td>3380.0</td>\n",
       "      <td>9900.0</td>\n",
       "      <td>2001</td>\n",
       "      <td>Southeast</td>\n",
       "    </tr>\n",
       "  </tbody>\n",
       "</table>\n",
       "</div>"
      ],
      "text/plain": [
       "                                INSTNM        CITY STABBR  \\\n",
       "0             Alabama A & M University      Normal     AL   \n",
       "1  University of Alabama at Birmingham  Birmingham     AL   \n",
       "2  University of Alabama in Huntsville  Huntsville     AL   \n",
       "3            The University of Alabama  Tuscaloosa     AL   \n",
       "4                    Auburn University      Auburn     AL   \n",
       "\n",
       "                                    PREDDEG  ADM_RATE_ALL  PPTUG_EF CONTROL  \\\n",
       "0  Predominantly bachelor's-degree granting        0.7505    0.0764  Public   \n",
       "1  Predominantly bachelor's-degree granting        0.9098    0.2801  Public   \n",
       "2  Predominantly bachelor's-degree granting        0.8381    0.2689  Public   \n",
       "3  Predominantly bachelor's-degree granting        0.7948    0.0982  Public   \n",
       "4  Predominantly bachelor's-degree granting        0.7594    0.0906  Public   \n",
       "\n",
       "   TUITIONFEE_IN  TUITIONFEE_OUT  year Only Region  \n",
       "0         4664.0          5200.0  2001  Southeast   \n",
       "1         3640.0          6610.0  2001  Southeast   \n",
       "2         3536.0          7430.0  2001  Southeast   \n",
       "3         3292.0          8912.0  2001  Southeast   \n",
       "4         3380.0          9900.0  2001  Southeast   "
      ]
     },
     "execution_count": 156,
     "metadata": {},
     "output_type": "execute_result"
    }
   ],
   "source": [
    "south_east.head()"
   ]
  },
  {
   "cell_type": "code",
   "execution_count": 157,
   "id": "02c53c48",
   "metadata": {},
   "outputs": [],
   "source": [
    "# select only rows with the year 2022\n",
    "south_east_2022 = south_east[south_east['year']==2022]"
   ]
  },
  {
   "cell_type": "code",
   "execution_count": 159,
   "id": "63170a53",
   "metadata": {
    "collapsed": true
   },
   "outputs": [
    {
     "data": {
      "text/plain": [
       "INSTNM            518\n",
       "CITY              518\n",
       "STABBR            518\n",
       "PREDDEG           518\n",
       "ADM_RATE_ALL      518\n",
       "PPTUG_EF          518\n",
       "CONTROL           518\n",
       "TUITIONFEE_IN     518\n",
       "TUITIONFEE_OUT    518\n",
       "year              518\n",
       "Only Region       518\n",
       "dtype: int64"
      ]
     },
     "execution_count": 159,
     "metadata": {},
     "output_type": "execute_result"
    }
   ],
   "source": [
    "south_east_2022.count()"
   ]
  },
  {
   "cell_type": "code",
   "execution_count": 166,
   "id": "70fbd0c2",
   "metadata": {},
   "outputs": [],
   "source": [
    "# select only rows with control = \n",
    "south_east_2022_private = south_east_2022[(south_east_2022['CONTROL']== 'Private for-profit') |\\\n",
    "                                         (south_east_2022['CONTROL'] == 'Private nonprofit')]"
   ]
  },
  {
   "cell_type": "code",
   "execution_count": 167,
   "id": "f770ae18",
   "metadata": {},
   "outputs": [
    {
     "data": {
      "text/plain": [
       "345"
      ]
     },
     "execution_count": 167,
     "metadata": {},
     "output_type": "execute_result"
    }
   ],
   "source": [
    "south_east_2022_private['INSTNM'].nunique()"
   ]
  },
  {
   "cell_type": "code",
   "execution_count": 168,
   "id": "e679b9a4",
   "metadata": {},
   "outputs": [],
   "source": [
    "# Question 5\n",
    "institution_2017_2022 = data_2017_2022.groupby('INSTNM')"
   ]
  },
  {
   "cell_type": "code",
   "execution_count": 169,
   "id": "b4c5ba02",
   "metadata": {
    "collapsed": true
   },
   "outputs": [
    {
     "data": {
      "text/html": [
       "<div>\n",
       "<style scoped>\n",
       "    .dataframe tbody tr th:only-of-type {\n",
       "        vertical-align: middle;\n",
       "    }\n",
       "\n",
       "    .dataframe tbody tr th {\n",
       "        vertical-align: top;\n",
       "    }\n",
       "\n",
       "    .dataframe thead th {\n",
       "        text-align: right;\n",
       "    }\n",
       "</style>\n",
       "<table border=\"1\" class=\"dataframe\">\n",
       "  <thead>\n",
       "    <tr style=\"text-align: right;\">\n",
       "      <th></th>\n",
       "      <th>INSTNM</th>\n",
       "      <th>CITY</th>\n",
       "      <th>STABBR</th>\n",
       "      <th>PREDDEG</th>\n",
       "      <th>ADM_RATE_ALL</th>\n",
       "      <th>PPTUG_EF</th>\n",
       "      <th>CONTROL</th>\n",
       "      <th>TUITIONFEE_IN</th>\n",
       "      <th>TUITIONFEE_OUT</th>\n",
       "      <th>year</th>\n",
       "      <th>Only Region</th>\n",
       "    </tr>\n",
       "  </thead>\n",
       "  <tbody>\n",
       "    <tr>\n",
       "      <th>44708</th>\n",
       "      <td>Alabama A &amp; M University</td>\n",
       "      <td>Normal</td>\n",
       "      <td>AL</td>\n",
       "      <td>Predominantly bachelor's-degree granting</td>\n",
       "      <td>0.9027</td>\n",
       "      <td>0.0655</td>\n",
       "      <td>Public</td>\n",
       "      <td>9857.0</td>\n",
       "      <td>18236.0</td>\n",
       "      <td>2017</td>\n",
       "      <td>Southeast</td>\n",
       "    </tr>\n",
       "    <tr>\n",
       "      <th>44709</th>\n",
       "      <td>University of Alabama at Birmingham</td>\n",
       "      <td>Birmingham</td>\n",
       "      <td>AL</td>\n",
       "      <td>Predominantly bachelor's-degree granting</td>\n",
       "      <td>0.9181</td>\n",
       "      <td>0.2515</td>\n",
       "      <td>Public</td>\n",
       "      <td>8328.0</td>\n",
       "      <td>19032.0</td>\n",
       "      <td>2017</td>\n",
       "      <td>Southeast</td>\n",
       "    </tr>\n",
       "    <tr>\n",
       "      <th>44710</th>\n",
       "      <td>University of Alabama in Huntsville</td>\n",
       "      <td>Huntsville</td>\n",
       "      <td>AL</td>\n",
       "      <td>Predominantly bachelor's-degree granting</td>\n",
       "      <td>0.8123</td>\n",
       "      <td>0.1496</td>\n",
       "      <td>Public</td>\n",
       "      <td>10280.0</td>\n",
       "      <td>21480.0</td>\n",
       "      <td>2017</td>\n",
       "      <td>Southeast</td>\n",
       "    </tr>\n",
       "    <tr>\n",
       "      <th>44711</th>\n",
       "      <td>Alabama State University</td>\n",
       "      <td>Montgomery</td>\n",
       "      <td>AL</td>\n",
       "      <td>Predominantly bachelor's-degree granting</td>\n",
       "      <td>0.9787</td>\n",
       "      <td>0.0771</td>\n",
       "      <td>Public</td>\n",
       "      <td>11068.0</td>\n",
       "      <td>19396.0</td>\n",
       "      <td>2017</td>\n",
       "      <td>Southeast</td>\n",
       "    </tr>\n",
       "    <tr>\n",
       "      <th>44712</th>\n",
       "      <td>The University of Alabama</td>\n",
       "      <td>Tuscaloosa</td>\n",
       "      <td>AL</td>\n",
       "      <td>Predominantly bachelor's-degree granting</td>\n",
       "      <td>0.5330</td>\n",
       "      <td>0.0792</td>\n",
       "      <td>Public</td>\n",
       "      <td>10780.0</td>\n",
       "      <td>28100.0</td>\n",
       "      <td>2017</td>\n",
       "      <td>Southeast</td>\n",
       "    </tr>\n",
       "  </tbody>\n",
       "</table>\n",
       "</div>"
      ],
      "text/plain": [
       "                                    INSTNM        CITY STABBR  \\\n",
       "44708             Alabama A & M University      Normal     AL   \n",
       "44709  University of Alabama at Birmingham  Birmingham     AL   \n",
       "44710  University of Alabama in Huntsville  Huntsville     AL   \n",
       "44711             Alabama State University  Montgomery     AL   \n",
       "44712            The University of Alabama  Tuscaloosa     AL   \n",
       "\n",
       "                                        PREDDEG  ADM_RATE_ALL  PPTUG_EF  \\\n",
       "44708  Predominantly bachelor's-degree granting        0.9027    0.0655   \n",
       "44709  Predominantly bachelor's-degree granting        0.9181    0.2515   \n",
       "44710  Predominantly bachelor's-degree granting        0.8123    0.1496   \n",
       "44711  Predominantly bachelor's-degree granting        0.9787    0.0771   \n",
       "44712  Predominantly bachelor's-degree granting        0.5330    0.0792   \n",
       "\n",
       "      CONTROL  TUITIONFEE_IN  TUITIONFEE_OUT  year Only Region  \n",
       "44708  Public         9857.0         18236.0  2017  Southeast   \n",
       "44709  Public         8328.0         19032.0  2017  Southeast   \n",
       "44710  Public        10280.0         21480.0  2017  Southeast   \n",
       "44711  Public        11068.0         19396.0  2017  Southeast   \n",
       "44712  Public        10780.0         28100.0  2017  Southeast   "
      ]
     },
     "execution_count": 169,
     "metadata": {},
     "output_type": "execute_result"
    }
   ],
   "source": [
    "data_2017_2022.head()"
   ]
  },
  {
   "cell_type": "code",
   "execution_count": 177,
   "id": "9fa5e8fb",
   "metadata": {
    "collapsed": true
   },
   "outputs": [
    {
     "data": {
      "text/html": [
       "<div>\n",
       "<style scoped>\n",
       "    .dataframe tbody tr th:only-of-type {\n",
       "        vertical-align: middle;\n",
       "    }\n",
       "\n",
       "    .dataframe tbody tr th {\n",
       "        vertical-align: top;\n",
       "    }\n",
       "\n",
       "    .dataframe thead th {\n",
       "        text-align: right;\n",
       "    }\n",
       "</style>\n",
       "<table border=\"1\" class=\"dataframe\">\n",
       "  <thead>\n",
       "    <tr style=\"text-align: right;\">\n",
       "      <th></th>\n",
       "      <th>PPTUG_EF</th>\n",
       "    </tr>\n",
       "    <tr>\n",
       "      <th>INSTNM</th>\n",
       "      <th></th>\n",
       "    </tr>\n",
       "  </thead>\n",
       "  <tbody>\n",
       "    <tr>\n",
       "      <th>Vista Adult School</th>\n",
       "      <td>1.0</td>\n",
       "    </tr>\n",
       "    <tr>\n",
       "      <th>Bancroft School of Massage Therapy</th>\n",
       "      <td>1.0</td>\n",
       "    </tr>\n",
       "    <tr>\n",
       "      <th>LIU Brentwood</th>\n",
       "      <td>1.0</td>\n",
       "    </tr>\n",
       "    <tr>\n",
       "      <th>Amslee Institute</th>\n",
       "      <td>1.0</td>\n",
       "    </tr>\n",
       "    <tr>\n",
       "      <th>Motion Picture Institute</th>\n",
       "      <td>1.0</td>\n",
       "    </tr>\n",
       "    <tr>\n",
       "      <th>Dental Assistant Pro LLC-Columbus</th>\n",
       "      <td>1.0</td>\n",
       "    </tr>\n",
       "    <tr>\n",
       "      <th>Poway Adult School</th>\n",
       "      <td>1.0</td>\n",
       "    </tr>\n",
       "    <tr>\n",
       "      <th>Indiana Wellness College</th>\n",
       "      <td>1.0</td>\n",
       "    </tr>\n",
       "    <tr>\n",
       "      <th>Dental Assistant Pro-Lebanon</th>\n",
       "      <td>1.0</td>\n",
       "    </tr>\n",
       "    <tr>\n",
       "      <th>Mauna Loa Helicopters</th>\n",
       "      <td>1.0</td>\n",
       "    </tr>\n",
       "    <tr>\n",
       "      <th>California Career Institute</th>\n",
       "      <td>1.0</td>\n",
       "    </tr>\n",
       "    <tr>\n",
       "      <th>Elizabethtown College School of Continuing and Professional Studies</th>\n",
       "      <td>1.0</td>\n",
       "    </tr>\n",
       "    <tr>\n",
       "      <th>Escondido Adult School</th>\n",
       "      <td>1.0</td>\n",
       "    </tr>\n",
       "    <tr>\n",
       "      <th>European Massage Therapy School-Las Vegas</th>\n",
       "      <td>1.0</td>\n",
       "    </tr>\n",
       "    <tr>\n",
       "      <th>Montefiore School of Nursing</th>\n",
       "      <td>1.0</td>\n",
       "    </tr>\n",
       "  </tbody>\n",
       "</table>\n",
       "</div>"
      ],
      "text/plain": [
       "                                                    PPTUG_EF\n",
       "INSTNM                                                      \n",
       "Vista Adult School                                       1.0\n",
       "Bancroft School of Massage Therapy                       1.0\n",
       "LIU Brentwood                                            1.0\n",
       "Amslee Institute                                         1.0\n",
       "Motion Picture Institute                                 1.0\n",
       "Dental Assistant Pro LLC-Columbus                        1.0\n",
       "Poway Adult School                                       1.0\n",
       "Indiana Wellness College                                 1.0\n",
       "Dental Assistant Pro-Lebanon                             1.0\n",
       "Mauna Loa Helicopters                                    1.0\n",
       "California Career Institute                              1.0\n",
       "Elizabethtown College School of Continuing and ...       1.0\n",
       "Escondido Adult School                                   1.0\n",
       "European Massage Therapy School-Las Vegas                1.0\n",
       "Montefiore School of Nursing                             1.0"
      ]
     },
     "execution_count": 177,
     "metadata": {},
     "output_type": "execute_result"
    }
   ],
   "source": [
    "# Average proportion from 2017 - 2022\n",
    "institution_2017_2022[['PPTUG_EF']].mean().sort_values(by='PPTUG_EF', ascending=False).head(15)"
   ]
  },
  {
   "cell_type": "code",
   "execution_count": null,
   "id": "9aa42f92",
   "metadata": {},
   "outputs": [],
   "source": []
  }
 ],
 "metadata": {
  "kernelspec": {
   "display_name": "Python 3 (ipykernel)",
   "language": "python",
   "name": "python3"
  },
  "language_info": {
   "codemirror_mode": {
    "name": "ipython",
    "version": 3
   },
   "file_extension": ".py",
   "mimetype": "text/x-python",
   "name": "python",
   "nbconvert_exporter": "python",
   "pygments_lexer": "ipython3",
   "version": "3.11.5"
  }
 },
 "nbformat": 4,
 "nbformat_minor": 5
}
